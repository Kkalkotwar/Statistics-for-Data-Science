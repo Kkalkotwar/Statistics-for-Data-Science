{
 "cells": [
  {
   "cell_type": "markdown",
   "metadata": {},
   "source": [
    "# Descriptive Statistics"
   ]
  },
  {
   "cell_type": "markdown",
   "metadata": {},
   "source": [
    "In this we will discuss what is Data Analysis, Central Tendency in Python: mean, median, and mode. Moreover, we will discuss Python Dispersion and Python Pandas Descriptive Statistics. Along with this, we will cover the variance in Python and how to calculate the variability for a set of values."
   ]
  },
  {
   "cell_type": "markdown",
   "metadata": {},
   "source": [
    "### Data Analysis"
   ]
  },
  {
   "cell_type": "markdown",
   "metadata": {},
   "source": [
    "With data analysis, we use two main statistical methods- Descriptive and Inferential.\n",
    "\n",
    "\n",
    "A ) Descriptive statistics uses tools like mean and standard deviation on a sample to summarize data.\n",
    "\n",
    "B) Inferential statistics, on the other hand, looks at data that can randomly vary, and then draw conclusions from it.\n",
    "Some such variations include observational errors and sampling variation."
   ]
  },
  {
   "cell_type": "markdown",
   "metadata": {},
   "source": [
    "### A) Descriptive Statistics"
   ]
  },
  {
   "cell_type": "markdown",
   "metadata": {},
   "source": [
    "Under descriptive statistics, fall two sets of properties- Measure of central tendency and Measure of dispersion. \n",
    "\n",
    "Central tendency characterizes one central value for the entire distribution. Measures under this include mean, median, and mode. \n",
    "\n",
    "Dispersion is the term for a practice that characterizes how apart the members of the distribution are from the center and from each other. Variance/Standard Deviation is one such measure of variability."
   ]
  },
  {
   "cell_type": "markdown",
   "metadata": {},
   "source": [
    "### Measure of  Central Tendency \n",
    "\n",
    "We have seen what central tendency or central location is. Now let’s take a look at all the functions Python caters to us to calculate the central tendency for a distribution. For this, let’s import the Python statistics module."
   ]
  },
  {
   "cell_type": "code",
   "execution_count": 2,
   "metadata": {},
   "outputs": [],
   "source": [
    "import statistics as st\n",
    "import pandas as pd \n",
    "import numpy as np"
   ]
  },
  {
   "cell_type": "markdown",
   "metadata": {},
   "source": [
    "# Case Study 1"
   ]
  },
  {
   "cell_type": "markdown",
   "metadata": {},
   "source": [
    "<span style=\"font-family: Arial; font-weight:bold;font-size:1.5em;color:#ae09ea;\">  About the Data set <span style=\"font-family: Arial; font-weight:bold;font-size:0.8em;color:red;\"> (500 Person Body Information)\n"
   ]
  },
  {
   "cell_type": "code",
   "execution_count": 1,
   "metadata": {},
   "outputs": [],
   "source": [
    "import pandas as pd\n",
    "import os\n",
    "import matplotlib.pyplot as plt\n",
    "%matplotlib inline\n",
    "import seaborn as sns\n",
    "import numpy as np\n"
   ]
  },
  {
   "cell_type": "markdown",
   "metadata": {},
   "source": [
    " GenderGender : Male / Female\n",
    " \n",
    "    HeightHeight : Number (cm)\n",
    "    \n",
    "    WeightWeight : Number (Kg)\n",
    "    \n",
    "    IndexIndex : 0 - Extremely Weak 1 - Weak 2 - Normal 3 - Overweight 4 - Obesity 5 - Extreme Obesity"
   ]
  },
  {
   "cell_type": "code",
   "execution_count": 2,
   "metadata": {},
   "outputs": [
    {
     "data": {
      "text/html": [
       "<div>\n",
       "<style scoped>\n",
       "    .dataframe tbody tr th:only-of-type {\n",
       "        vertical-align: middle;\n",
       "    }\n",
       "\n",
       "    .dataframe tbody tr th {\n",
       "        vertical-align: top;\n",
       "    }\n",
       "\n",
       "    .dataframe thead th {\n",
       "        text-align: right;\n",
       "    }\n",
       "</style>\n",
       "<table border=\"1\" class=\"dataframe\">\n",
       "  <thead>\n",
       "    <tr style=\"text-align: right;\">\n",
       "      <th></th>\n",
       "      <th>Gender</th>\n",
       "      <th>Height</th>\n",
       "      <th>Weight</th>\n",
       "      <th>Index</th>\n",
       "    </tr>\n",
       "  </thead>\n",
       "  <tbody>\n",
       "    <tr>\n",
       "      <th>0</th>\n",
       "      <td>Male</td>\n",
       "      <td>174</td>\n",
       "      <td>96</td>\n",
       "      <td>4</td>\n",
       "    </tr>\n",
       "    <tr>\n",
       "      <th>1</th>\n",
       "      <td>Male</td>\n",
       "      <td>189</td>\n",
       "      <td>87</td>\n",
       "      <td>2</td>\n",
       "    </tr>\n",
       "    <tr>\n",
       "      <th>2</th>\n",
       "      <td>Female</td>\n",
       "      <td>185</td>\n",
       "      <td>110</td>\n",
       "      <td>4</td>\n",
       "    </tr>\n",
       "    <tr>\n",
       "      <th>3</th>\n",
       "      <td>Female</td>\n",
       "      <td>195</td>\n",
       "      <td>104</td>\n",
       "      <td>3</td>\n",
       "    </tr>\n",
       "    <tr>\n",
       "      <th>4</th>\n",
       "      <td>Male</td>\n",
       "      <td>149</td>\n",
       "      <td>61</td>\n",
       "      <td>3</td>\n",
       "    </tr>\n",
       "  </tbody>\n",
       "</table>\n",
       "</div>"
      ],
      "text/plain": [
       "   Gender  Height  Weight  Index\n",
       "0    Male     174      96      4\n",
       "1    Male     189      87      2\n",
       "2  Female     185     110      4\n",
       "3  Female     195     104      3\n",
       "4    Male     149      61      3"
      ]
     },
     "execution_count": 2,
     "metadata": {},
     "output_type": "execute_result"
    }
   ],
   "source": [
    "# Import data Set\n",
    "\n",
    "d1=pd.read_csv('500 person BMI.csv')\n",
    "d1.head()"
   ]
  },
  {
   "cell_type": "code",
   "execution_count": 3,
   "metadata": {},
   "outputs": [
    {
     "name": "stdout",
     "output_type": "stream",
     "text": [
      "<class 'pandas.core.frame.DataFrame'>\n",
      "RangeIndex: 500 entries, 0 to 499\n",
      "Data columns (total 4 columns):\n",
      " #   Column  Non-Null Count  Dtype \n",
      "---  ------  --------------  ----- \n",
      " 0   Gender  500 non-null    object\n",
      " 1   Height  500 non-null    int64 \n",
      " 2   Weight  500 non-null    int64 \n",
      " 3   Index   500 non-null    int64 \n",
      "dtypes: int64(3), object(1)\n",
      "memory usage: 15.8+ KB\n"
     ]
    }
   ],
   "source": [
    "#Looking at Data\n",
    "\n",
    "d1.info()"
   ]
  },
  {
   "cell_type": "markdown",
   "metadata": {},
   "source": [
    "There are total 500 rows and 4 features with no null values among which gender is object data types and rest are integer"
   ]
  },
  {
   "cell_type": "markdown",
   "metadata": {},
   "source": [
    "# EDA Descriptive Statistics:"
   ]
  },
  {
   "cell_type": "markdown",
   "metadata": {},
   "source": [
    "<span style=\"font-family: Arial; font-weight:bold;font-size:1.5em;color:#ae09ea;\">    Measures of Central Tendency\n",
    "\n",
    "Measures of Central Tendency define significant, representative and adequate values for a set of data, depending on what you want to analyze. They are the \n",
    "\n",
    "1. mean\n",
    "2. median\n",
    "3. quantiles and mode."
   ]
  },
  {
   "cell_type": "code",
   "execution_count": 4,
   "metadata": {},
   "outputs": [
    {
     "data": {
      "text/plain": [
       "Height    169.944\n",
       "Weight    106.000\n",
       "Index       3.748\n",
       "dtype: float64"
      ]
     },
     "execution_count": 4,
     "metadata": {},
     "output_type": "execute_result"
    }
   ],
   "source": [
    "# MEAN\n",
    "\n",
    "d1.mean()\n"
   ]
  },
  {
   "cell_type": "code",
   "execution_count": 5,
   "metadata": {},
   "outputs": [
    {
     "data": {
      "text/html": [
       "<div>\n",
       "<style scoped>\n",
       "    .dataframe tbody tr th:only-of-type {\n",
       "        vertical-align: middle;\n",
       "    }\n",
       "\n",
       "    .dataframe tbody tr th {\n",
       "        vertical-align: top;\n",
       "    }\n",
       "\n",
       "    .dataframe thead th {\n",
       "        text-align: right;\n",
       "    }\n",
       "</style>\n",
       "<table border=\"1\" class=\"dataframe\">\n",
       "  <thead>\n",
       "    <tr style=\"text-align: right;\">\n",
       "      <th></th>\n",
       "      <th>Gender</th>\n",
       "      <th>Height</th>\n",
       "      <th>Weight</th>\n",
       "      <th>Index</th>\n",
       "    </tr>\n",
       "  </thead>\n",
       "  <tbody>\n",
       "    <tr>\n",
       "      <th>0</th>\n",
       "      <td>Female</td>\n",
       "      <td>188.0</td>\n",
       "      <td>50</td>\n",
       "      <td>5.0</td>\n",
       "    </tr>\n",
       "    <tr>\n",
       "      <th>1</th>\n",
       "      <td>NaN</td>\n",
       "      <td>NaN</td>\n",
       "      <td>80</td>\n",
       "      <td>NaN</td>\n",
       "    </tr>\n",
       "    <tr>\n",
       "      <th>2</th>\n",
       "      <td>NaN</td>\n",
       "      <td>NaN</td>\n",
       "      <td>104</td>\n",
       "      <td>NaN</td>\n",
       "    </tr>\n",
       "  </tbody>\n",
       "</table>\n",
       "</div>"
      ],
      "text/plain": [
       "   Gender  Height  Weight  Index\n",
       "0  Female   188.0      50    5.0\n",
       "1     NaN     NaN      80    NaN\n",
       "2     NaN     NaN     104    NaN"
      ]
     },
     "execution_count": 5,
     "metadata": {},
     "output_type": "execute_result"
    }
   ],
   "source": [
    "# MODE\n",
    "\n",
    "d1.mode()"
   ]
  },
  {
   "cell_type": "code",
   "execution_count": 6,
   "metadata": {},
   "outputs": [
    {
     "data": {
      "text/plain": [
       "Height    170.5\n",
       "Weight    106.0\n",
       "Index       4.0\n",
       "dtype: float64"
      ]
     },
     "execution_count": 6,
     "metadata": {},
     "output_type": "execute_result"
    }
   ],
   "source": [
    "# MEDIAN \n",
    "\n",
    "d1.median()\n"
   ]
  },
  {
   "cell_type": "markdown",
   "metadata": {},
   "source": [
    "### Plot the density graph and overley mean and meadian scores for data?"
   ]
  },
  {
   "cell_type": "code",
   "execution_count": 7,
   "metadata": {},
   "outputs": [
    {
     "data": {
      "image/png": "[encoded data removed]",
      "text/plain": [
       "<Figure size 432x288 with 1 Axes>"
      ]
     },
     "metadata": {
      "needs_background": "light"
     },
     "output_type": "display_data"
    }
   ],
   "source": [
    "# Create density plot kind=\"density\"\n",
    "\n",
    "# create a green line plot for mean  on the density plot:\n",
    "\n",
    "# create a red line plot for median  on the density plot:\n",
    "sns.distplot(d1['Weight'])\n",
    "plt.axvline(d1[\"Weight\"].mean(),color='g')\n",
    "plt.axvline(d1[\"Weight\"].median(),color='r')\n",
    "plt.grid()\n",
    "plt.show()"
   ]
  },
  {
   "cell_type": "markdown",
   "metadata": {},
   "source": [
    "We can observe both mean and median both are same for weight feature so line are overlapping each other"
   ]
  },
  {
   "cell_type": "markdown",
   "metadata": {},
   "source": [
    "### Check (Quantile 25%,50%,75%)?"
   ]
  },
  {
   "cell_type": "code",
   "execution_count": 8,
   "metadata": {},
   "outputs": [
    {
     "data": {
      "text/plain": [
       "Height    156.0\n",
       "Weight     80.0\n",
       "Index       3.0\n",
       "Name: 0.25, dtype: float64"
      ]
     },
     "execution_count": 8,
     "metadata": {},
     "output_type": "execute_result"
    }
   ],
   "source": [
    "# Q1 i.e 25%\n",
    "\n",
    "d1.quantile(.25)"
   ]
  },
  {
   "cell_type": "code",
   "execution_count": 9,
   "metadata": {},
   "outputs": [
    {
     "data": {
      "text/plain": [
       "Height    184.0\n",
       "Weight    136.0\n",
       "Index       5.0\n",
       "Name: 0.75, dtype: float64"
      ]
     },
     "execution_count": 9,
     "metadata": {},
     "output_type": "execute_result"
    }
   ],
   "source": [
    "# Q3 i.e 75%\n",
    "\n",
    "d1.quantile(.75)"
   ]
  },
  {
   "cell_type": "code",
   "execution_count": 10,
   "metadata": {},
   "outputs": [
    {
     "data": {
      "text/plain": [
       "Height    170.5\n",
       "Weight    106.0\n",
       "Index       4.0\n",
       "Name: 0.5, dtype: float64"
      ]
     },
     "execution_count": 10,
     "metadata": {},
     "output_type": "execute_result"
    }
   ],
   "source": [
    "# IQR i.e 50 %\n",
    "\n",
    "d1.quantile(.50)\n",
    "\n"
   ]
  },
  {
   "cell_type": "code",
   "execution_count": 11,
   "metadata": {},
   "outputs": [
    {
     "name": "stdout",
     "output_type": "stream",
     "text": [
      "IQR Height    28.0\n",
      "Weight    56.0\n",
      "Index      2.0\n",
      "dtype: float64\n"
     ]
    }
   ],
   "source": [
    "print('IQR',d1.quantile(.75) -d1.quantile(.25))"
   ]
  },
  {
   "cell_type": "markdown",
   "metadata": {},
   "source": [
    "<span style=\"font-family: Arial; font-weight:bold;font-size:1.5em;color:#ae09ea;\"> Measures of Dispersion"
   ]
  },
  {
   "cell_type": "markdown",
   "metadata": {},
   "source": [
    "Measures of Dispersion are measures that indicate how spread the data is, or how they vary. The measures of dispersion are range, variance, standard deviation and the absolute deviation, or mean absolute deviation.\n",
    "\n",
    " check the Range,Variance,Standard Deviation,Skewness and kurtosis."
   ]
  },
  {
   "cell_type": "code",
   "execution_count": 12,
   "metadata": {},
   "outputs": [
    {
     "name": "stdout",
     "output_type": "stream",
     "text": [
      "Range for height 59\n"
     ]
    }
   ],
   "source": [
    "## RANGE FOR HEIGHT\n",
    "\n",
    "c=d1[\"Height\"].max()-d1['Height'].min()\n",
    "print(\n",
    "'Range for height',c)"
   ]
  },
  {
   "cell_type": "code",
   "execution_count": 13,
   "metadata": {},
   "outputs": [
    {
     "data": {
      "text/plain": [
       "Height     268.149162\n",
       "Weight    1048.633267\n",
       "Index        1.836168\n",
       "dtype: float64"
      ]
     },
     "execution_count": 13,
     "metadata": {},
     "output_type": "execute_result"
    }
   ],
   "source": [
    "## VARIANCE\n",
    "\n",
    "d1.var()"
   ]
  },
  {
   "cell_type": "code",
   "execution_count": 14,
   "metadata": {},
   "outputs": [
    {
     "data": {
      "text/plain": [
       "Height    16.375261\n",
       "Weight    32.382607\n",
       "Index      1.355053\n",
       "dtype: float64"
      ]
     },
     "execution_count": 14,
     "metadata": {},
     "output_type": "execute_result"
    }
   ],
   "source": [
    "## STANDARD DEVIATION\n",
    "\n",
    "d1.std()"
   ]
  },
  {
   "cell_type": "code",
   "execution_count": 15,
   "metadata": {},
   "outputs": [
    {
     "data": {
      "text/plain": [
       "Height   -0.121914\n",
       "Weight   -0.037692\n",
       "Index    -0.927799\n",
       "dtype: float64"
      ]
     },
     "execution_count": 15,
     "metadata": {},
     "output_type": "execute_result"
    }
   ],
   "source": [
    "## SKEWNESS\n",
    "\n",
    "d1.skew()"
   ]
  },
  {
   "cell_type": "code",
   "execution_count": 16,
   "metadata": {},
   "outputs": [
    {
     "data": {
      "text/plain": [
       "Height   -1.119671\n",
       "Weight   -1.197325\n",
       "Index    -0.026817\n",
       "dtype: float64"
      ]
     },
     "execution_count": 16,
     "metadata": {},
     "output_type": "execute_result"
    }
   ],
   "source": [
    "## KURTOSIS\n",
    "\n",
    "d1.kurtosis()"
   ]
  },
  {
   "cell_type": "markdown",
   "metadata": {},
   "source": [
    " <span style=\"font-family: Arial; font-weight:bold;font-size:1.5em;color:#ae09ea;\">  Covariance and Correlation"
   ]
  },
  {
   "cell_type": "code",
   "execution_count": 17,
   "metadata": {},
   "outputs": [
    {
     "data": {
      "text/html": [
       "<div>\n",
       "<style scoped>\n",
       "    .dataframe tbody tr th:only-of-type {\n",
       "        vertical-align: middle;\n",
       "    }\n",
       "\n",
       "    .dataframe tbody tr th {\n",
       "        vertical-align: top;\n",
       "    }\n",
       "\n",
       "    .dataframe thead th {\n",
       "        text-align: right;\n",
       "    }\n",
       "</style>\n",
       "<table border=\"1\" class=\"dataframe\">\n",
       "  <thead>\n",
       "    <tr style=\"text-align: right;\">\n",
       "      <th></th>\n",
       "      <th>Height</th>\n",
       "      <th>Weight</th>\n",
       "      <th>Index</th>\n",
       "    </tr>\n",
       "  </thead>\n",
       "  <tbody>\n",
       "    <tr>\n",
       "      <th>Height</th>\n",
       "      <td>268.149162</td>\n",
       "      <td>0.236473</td>\n",
       "      <td>-9.368850</td>\n",
       "    </tr>\n",
       "    <tr>\n",
       "      <th>Weight</th>\n",
       "      <td>0.236473</td>\n",
       "      <td>1048.633267</td>\n",
       "      <td>35.304609</td>\n",
       "    </tr>\n",
       "    <tr>\n",
       "      <th>Index</th>\n",
       "      <td>-9.368850</td>\n",
       "      <td>35.304609</td>\n",
       "      <td>1.836168</td>\n",
       "    </tr>\n",
       "  </tbody>\n",
       "</table>\n",
       "</div>"
      ],
      "text/plain": [
       "            Height       Weight      Index\n",
       "Height  268.149162     0.236473  -9.368850\n",
       "Weight    0.236473  1048.633267  35.304609\n",
       "Index    -9.368850    35.304609   1.836168"
      ]
     },
     "execution_count": 17,
     "metadata": {},
     "output_type": "execute_result"
    }
   ],
   "source": [
    "# COVARIANCE\n",
    "\n",
    "d1.cov()"
   ]
  },
  {
   "cell_type": "code",
   "execution_count": 18,
   "metadata": {},
   "outputs": [
    {
     "data": {
      "text/html": [
       "<div>\n",
       "<style scoped>\n",
       "    .dataframe tbody tr th:only-of-type {\n",
       "        vertical-align: middle;\n",
       "    }\n",
       "\n",
       "    .dataframe tbody tr th {\n",
       "        vertical-align: top;\n",
       "    }\n",
       "\n",
       "    .dataframe thead th {\n",
       "        text-align: right;\n",
       "    }\n",
       "</style>\n",
       "<table border=\"1\" class=\"dataframe\">\n",
       "  <thead>\n",
       "    <tr style=\"text-align: right;\">\n",
       "      <th></th>\n",
       "      <th>Height</th>\n",
       "      <th>Weight</th>\n",
       "      <th>Index</th>\n",
       "    </tr>\n",
       "  </thead>\n",
       "  <tbody>\n",
       "    <tr>\n",
       "      <th>Height</th>\n",
       "      <td>1.000000</td>\n",
       "      <td>0.000446</td>\n",
       "      <td>-0.422223</td>\n",
       "    </tr>\n",
       "    <tr>\n",
       "      <th>Weight</th>\n",
       "      <td>0.000446</td>\n",
       "      <td>1.000000</td>\n",
       "      <td>0.804569</td>\n",
       "    </tr>\n",
       "    <tr>\n",
       "      <th>Index</th>\n",
       "      <td>-0.422223</td>\n",
       "      <td>0.804569</td>\n",
       "      <td>1.000000</td>\n",
       "    </tr>\n",
       "  </tbody>\n",
       "</table>\n",
       "</div>"
      ],
      "text/plain": [
       "          Height    Weight     Index\n",
       "Height  1.000000  0.000446 -0.422223\n",
       "Weight  0.000446  1.000000  0.804569\n",
       "Index  -0.422223  0.804569  1.000000"
      ]
     },
     "execution_count": 18,
     "metadata": {},
     "output_type": "execute_result"
    }
   ],
   "source": [
    "# CORRELATION\n",
    "\n",
    "d1.corr()"
   ]
  },
  {
   "cell_type": "markdown",
   "metadata": {},
   "source": [
    "### Created New random.normal(size=100000) to visualize mean and median on a density plot "
   ]
  },
  {
   "cell_type": "code",
   "execution_count": 19,
   "metadata": {},
   "outputs": [
    {
     "data": {
      "image/png": "[encoded data removed]",
      "text/plain": [
       "<Figure size 432x288 with 1 Axes>"
      ]
     },
     "metadata": {
      "needs_background": "light"
     },
     "output_type": "display_data"
    }
   ],
   "source": [
    "# Create New random.normal(size=100000)\n",
    "\n",
    "rd=np.random.randn(100000)\n",
    "rd\n",
    "# create density plot new data:\n",
    "sns.distplot(rd)\n",
    "# create a red line plot for mean on the density plot:\n",
    "plt.axvline(rd.mean(),color='r')\n",
    "## create a green line plot for median on the density plot:\n",
    "plt.axvline(np.median(rd),color='g')\n",
    "\n",
    "plt.show()"
   ]
  },
  {
   "cell_type": "markdown",
   "metadata": {},
   "source": [
    "### Created (Newdata,outliers data ) using random.normal(size=50) to visualize mean and median on a density plot"
   ]
  },
  {
   "cell_type": "code",
   "execution_count": 20,
   "metadata": {},
   "outputs": [
    {
     "data": {
      "image/png": "[encoded data removed]",
      "text/plain": [
       "<Figure size 432x288 with 1 Axes>"
      ]
     },
     "metadata": {
      "needs_background": "light"
     },
     "output_type": "display_data"
    }
   ],
   "source": [
    "# create a normally distributed data with mean 0 using random.normal(size=50) \n",
    "Newdata=np.random.normal(size=50) \n",
    "Newdata\n",
    "# create a additional outlier data uwith mean >=10 using random.normal(loc=10 size=15) \n",
    "outliers_data=np.random.normal(loc=10,size=15) \n",
    "outliers_data\n",
    "# Concatenate both the data sets\n",
    "k=np.concatenate([Newdata,outliers_data])\n",
    "\n",
    "# Create a density plot\n",
    "sns.distplot(k)\n",
    "\n",
    "# create a red line plot for mean on the density plot:\n",
    "\n",
    "plt.axvline(k.mean(),color='r')\n",
    "\n",
    "# create a green line plot for median on the density plot:\n",
    "plt.axvline(np.median(k),color='g')\n",
    "plt.show()"
   ]
  },
  {
   "cell_type": "markdown",
   "metadata": {},
   "source": [
    "Here we created two Dataframe newdata and outlier data then concate it and plotted a density  plot to check the median and mean of data where as we observe mean to be around 2.5 and median near to 0.3"
   ]
  },
  {
   "cell_type": "markdown",
   "metadata": {},
   "source": [
    "------------"
   ]
  },
  {
   "cell_type": "markdown",
   "metadata": {},
   "source": [
    "#        Gaussian Distribution (Normal Distribution ) and Confidence Interval"
   ]
  },
  {
   "cell_type": "markdown",
   "metadata": {},
   "source": [
    "### Normal Distribution"
   ]
  },
  {
   "cell_type": "markdown",
   "metadata": {},
   "source": [
    "* One of the most popular continuous distribution in Analytics field.\n",
    "* Normal distribution is observed across many naturally occurring measures such as birth weight, height and intelligence etc"
   ]
  },
  {
   "cell_type": "markdown",
   "metadata": {},
   "source": [
    "#### Probability Density Function\n"
   ]
  },
  {
   "cell_type": "markdown",
   "metadata": {},
   "source": [
    "f(x) = $\\frac {1}{\\sigma\\sqrt(2 \\pi)} e^\\frac {-(x-\\mu^2)}{2\\sigma^2}$"
   ]
  },
  {
   "cell_type": "markdown",
   "metadata": {},
   "source": [
    "\n",
    "\n",
    "Where\n",
    "* f(x) is used to represent a probability density function\n",
    "* x is any value of the continuous variable, where -∞ < x < ∞\n",
    "* e denotes the mathematical constant approximated by 2.71828\n",
    "* Π is a mathematical constant approximated by 3.14159\n",
    "* μ and σ are the mean and standard deviation of the normal distribution"
   ]
  },
  {
   "cell_type": "markdown",
   "metadata": {},
   "source": [
    "For a continuous function, the probability density function is the probability that the value has the value x. \n",
    "Since for continuous distributions the probability at a single point is zero, this is expressed in terms of an integral of its probability density function\n",
    "P(X<= x) = F(x) = \n",
    "$\\int_{-\\infty}^xf(t)dt$\n",
    "\n",
    "\n",
    "Standardize normal variable\n",
    "Compute Z by subtracting the mean, mu from a normally distributed variable, divide by the standard deviation, sigma.\n",
    "Z = (X - μ) / σ \n",
    "Z is in standard units. \n",
    "Z ~ N(0,1) and the variable, Z always has mean 0 and standard deviation 1\n",
    "\n",
    "\n",
    "\n",
    "* For a normal distribution, mu is the location parameter, which locates (centre) the distribution on the horizontal axis.\n",
    "* Sigma is the scale parameter, which defines the spread of the normal distribution.\n",
    "* Normal distribution has no shape parameter since all the normal distribution curves have bell shape and are symmetrical. \n",
    "\n",
    "\n",
    "### Properties\n",
    "1. Theoretical normal density functions are defined between -∞ and ∞\n",
    "2. There are two parameters, location (μ which is the mean) and scale (σ which is standard deviation).\n",
    "3. It has a symmetrical (bell shape) around the mean. mean = median = mode\n",
    "4. Areas between specific values are measured in terms of μ and σ\n",
    "5. Any linear transformation if a normal random variable is also normal random variable.\n",
    "6. If X1 is an independent normal random variable with mean μ1 and variance $\\sigma1^2$ and \n",
    "      X2 is another independent normal random variable with mean μ2 and$\\sigma2^2$, \n",
    "then X1 + X2 is also a normal distribution with mean μ1 + μ2 and variance $\\sigma1^2$ + $\\sigma2^2$ "
   ]
  },
  {
   "cell_type": "markdown",
   "metadata": {},
   "source": [
    "| Value of the random variable | Area under the normal distribution (CDF) |\n",
    "| --------------------------------- | --------------------------|\n",
    "| $\\mu - \\sigma \\leq x \\leq \\mu + \\sigma$ | 0.6828 |\n",
    "| $\\mu - 2\\sigma \\leq x \\leq \\mu + 2\\sigma$ | 0.9545 |\n",
    "| $\\mu - 3\\sigma \\leq x \\leq \\mu + 3\\sigma$ | 0.9974 |"
   ]
  },
  {
   "cell_type": "markdown",
   "metadata": {},
   "source": [
    "### Some important functions in python for solving Normal Distribution problems\n",
    "\n",
    "#### 1. Cumulative Density Function (cdf)\n",
    "\n",
    "1. scipy.stats.norm.cdf(z)                 # Here z is an attribute\n",
    "\n",
    "2. stats.norm.cdf(z2) – stats.norm.cdf(z1) # Here z is an attribute\n",
    "\n",
    "3. stats.norm.isf(0.99) # Inverse Survival function gives the value given a probability"
   ]
  },
  {
   "cell_type": "markdown",
   "metadata": {},
   "source": [
    "### EXAMPLE"
   ]
  },
  {
   "cell_type": "markdown",
   "metadata": {},
   "source": [
    "A survey on use of smart phones in India was conducted and it is observed the smart phone users spend 68 minutes in a day on average in sending messages and the corresponding standard deviation is 12 minutes. \n",
    "\n",
    "* Assume that the time spent in sending messages follows a normal distribution. \n",
    "* a) What proportion of the smart phone users are spending more than 90 minutes in sending messages daily?\n",
    "* b) What proportion of customers are spending less than 20 minutes?\n",
    "* c) What proportion of customers are spending between 50 minutes and 100 minutes?"
   ]
  },
  {
   "cell_type": "markdown",
   "metadata": {},
   "source": [
    "#### Solution :"
   ]
  },
  {
   "cell_type": "code",
   "execution_count": 21,
   "metadata": {},
   "outputs": [
    {
     "name": "stdout",
     "output_type": "stream",
     "text": [
      " a. Proportion of the smart phone users are spending more than 90 minutes in sending messages daily is 0.0334\n"
     ]
    }
   ],
   "source": [
    "# a. What proportion of the smart phone users are spending more than 90 minutes in sending messages daily?\n",
    "\n",
    "import  scipy.stats as  st\n",
    "mu    = 68 # minutes \n",
    "sigma = 12\n",
    "\n",
    "z  = (90 - mu) / sigma # X = 90\n",
    "P  = 1 - st.norm.cdf(z)\n",
    "print(' a. Proportion of the smart phone users are spending more than 90 minutes in sending messages daily is %1.4f' % P)"
   ]
  },
  {
   "cell_type": "code",
   "execution_count": 22,
   "metadata": {},
   "outputs": [
    {
     "name": "stdout",
     "output_type": "stream",
     "text": [
      " b) What proportion of customers are spending less than 20 minutes is 0.0000317\n"
     ]
    }
   ],
   "source": [
    "# b) What proportion of customers are spending less than 20 minutes?\n",
    "z1  =  (20 - mu) / sigma # X = 20\n",
    "P   =  st.norm.cdf(z1)\n",
    "print(' b) What proportion of customers are spending less than 20 minutes is %1.7f' % P)\n"
   ]
  },
  {
   "cell_type": "code",
   "execution_count": 23,
   "metadata": {},
   "outputs": [
    {
     "name": "stdout",
     "output_type": "stream",
     "text": [
      " c) proportion of customers are spending between 50 minutes and 100 minutes is 0.9294\n"
     ]
    }
   ],
   "source": [
    "# c) What proportion of customers are spending between 50 minutes and 100 minutes?\n",
    "z1  =  (50 - mu) / sigma   # X = 50\n",
    "z2  =  (100 - mu) / sigma  # X = 100\n",
    "P1   =  st.norm.cdf(z1)\n",
    "P2   =  st.norm.cdf(z2)\n",
    "P    =  P2 - P1\n",
    "print(' c) proportion of customers are spending between 50 minutes and 100 minutes is %1.4f' % P)"
   ]
  },
  {
   "cell_type": "markdown",
   "metadata": {},
   "source": [
    "### Confidence interval"
   ]
  },
  {
   "cell_type": "markdown",
   "metadata": {},
   "source": [
    "* Central Limit Theorem (CLT) is one of the most important theorems in Statistics due to its applications in testing of hypothesis.\n",
    "\n",
    "* CLT states that for a large sample drawn from a population with mean  𝜇  and standard deviation  𝜎 , the sampling distribution of mean, follows an approximate normal distribution with mean, μ and standard error σ / √(n) irrespective of the distribution of the population for large sample size.\n",
    "\n",
    "* As a general rule, statisticians have found that for many population distribution, when the sample size is at least 30, the sampling distribution of the mean is approximately normal."
   ]
  },
  {
   "cell_type": "markdown",
   "metadata": {},
   "source": [
    "Let $X_1$, $X_2$, $X_3$, ..., $X_n$ be the sample means of samples, $S_1$, $S_3$,  $S_3$, ..., $S_n$ that are drawn from an independent and identically distributed population with mean, $\\mu$ and stamdard deviation, $\\sigma$.\n",
    "\n",
    "From the Central Limit Theorem, we know that the sample means, $X_i$ follows a normal distribution with mean, $\\mu$ and standard deviation $\\frac{\\sigma} {\\sqrt{n}}$."
   ]
  },
  {
   "cell_type": "markdown",
   "metadata": {},
   "source": [
    "* For $\\alpha$ = 0.05 or $\\alpha/2$ = 0.025, that is 95% confidence interval, we can calculate lower and upper values of the confidence interval from the standard normal distribution.\n",
    "* scipy.stats.norm.isf(q = 0.025) gives the value of Z for which the area under the normal distribution is less than 0.025.\n",
    "* The corresponding value is approximately 1.96 as shown in the previous example.\n",
    "* Using the transformation relationship between standard normal random variable Z and normal random variable X, we can write the 95% confidence interval for population mean when population standard deviation ($\\sigma$) is known as:\n",
    "$\\overline{X} \\pm 1.96 \\frac {\\sigma} {\\sqrt{n}}$, where $\\overline{X} is the estimated value of mean from a sample of size n."
   ]
  },
  {
   "cell_type": "markdown",
   "metadata": {},
   "source": [
    "#### In general, (1 - $\\alpha$) 100% the confidence interval for the population mean when population standard deviation is known can be written as \n",
    "\n",
    "$\\overline{X} \\pm Z _\\frac{\\alpha}{2} \\frac {\\sigma} {\\sqrt{n}}$\n",
    "\n",
    "This equation is valid for large sample sizes, irrespective of the distribution of the population.\n",
    "\n",
    "This is equivalent to"
   ]
  },
  {
   "cell_type": "markdown",
   "metadata": {},
   "source": [
    "P($\\overline{X} - Z_\\frac{\\alpha}{2} \\times \\frac{\\sigma}{\\sqrt{n}} \\leq \\mu \\leq \\overline{X} + Z_\\frac{\\alpha}{2} \\times \\frac{\\sigma}{\\sqrt{n}}$) = 1 - $\\alpha$"
   ]
  },
  {
   "cell_type": "markdown",
   "metadata": {},
   "source": [
    "The absolute values of $Z_\\frac{\\alpha}{2}$ are shown in the following table:\n"
   ]
  },
  {
   "cell_type": "code",
   "execution_count": 24,
   "metadata": {},
   "outputs": [
    {
     "name": "stdout",
     "output_type": "stream",
     "text": [
      "       alpha  Z_alpha_by_2\n",
      "alpha   0.10          1.64\n",
      "alpha   0.05          1.96\n",
      "alpha   0.02          2.33\n",
      "alpha   0.01          2.58\n"
     ]
    }
   ],
   "source": [
    "df                 =  pd.DataFrame()\n",
    "Significance_Level =  [0.1, 0.05, 0.02, 0.01] \n",
    "\n",
    "for i in range(len(Significance_Level)):\n",
    "    SL_2    =  Significance_Level[i] / 2\n",
    "    Z              = np.abs(round(st.norm.isf(q = SL_2),2))\n",
    "    data           =  pd.DataFrame({\"alpha\": Significance_Level[i], \"Z_alpha_by_2\" : Z}, index = ['alpha'] )\n",
    "    df = df.append(data)\n",
    "print(df)"
   ]
  },
  {
   "cell_type": "markdown",
   "metadata": {},
   "source": [
    "| $\\quad \\alpha \\quad$  | $Z_\\frac{\\alpha}{2}$ | Confidence Interval for $\\mu$ when $\\sigma$ is known |\n",
    "| ----         | ----             | -------------------------------------------------------- |\n",
    "| 0.1          | 1.64             |  $\\overline{X} \\quad \\pm 1.64 \\frac {\\sigma} {\\sqrt{n}}$  |\n",
    "| 0.05         | 1.96             |  $\\overline{X} \\quad \\pm 1.96 \\frac {\\sigma} {\\sqrt{n}}$  |      \n",
    "| 0.02         | 2.33             |  $\\overline{X} \\quad \\pm 2.33 \\frac {\\sigma} {\\sqrt{n}}$  |\n",
    "| 0.01         | 2.58             |  $\\overline{X} \\quad \\pm 2.58 \\frac {\\sigma} {\\sqrt{n}}$  |                                                        || $\\quad \\alpha \\quad$  | $Z_\\frac{\\alpha}{2}$ | Confidence Interval for $\\mu$ when $\\sigma$ is known |\n",
    "| ----         | ----             | -------------------------------------------------------- |\n",
    "| 0.1          | 1.64             |  $\\overline{X} \\quad \\pm 1.64 \\frac {\\sigma} {\\sqrt{n}}$  |\n",
    "| 0.05         | 1.96             |  $\\overline{X} \\quad \\pm 1.96 \\frac {\\sigma} {\\sqrt{n}}$  |      \n",
    "| 0.02         | 2.33             |  $\\overline{X} \\quad \\pm 2.33 \\frac {\\sigma} {\\sqrt{n}}$  |\n",
    "| 0.01         | 2.58             |  $\\overline{X} \\quad \\pm 2.58 \\frac {\\sigma} {\\sqrt{n}}$  |                                                        |"
   ]
  },
  {
   "cell_type": "markdown",
   "metadata": {},
   "source": [
    "### Example "
   ]
  },
  {
   "cell_type": "markdown",
   "metadata": {},
   "source": [
    "A sample of 100 diabetic patients was chosen to estimate the length of stay at a local hospital. \n",
    "The sample mean was 4.5 days and the population standard deviation was known to be 1.2 days.\n",
    "\n",
    "* a) Calculate the 95% confidence interval for the population mean.\n",
    "* b) What is the probability that the population mean is greater than 4.73 days?"
   ]
  },
  {
   "cell_type": "markdown",
   "metadata": {},
   "source": [
    "#### Solution :"
   ]
  },
  {
   "cell_type": "markdown",
   "metadata": {},
   "source": [
    "a) Calculate the 95% confidence interval for the population mean.\n",
    "\n",
    "It is known that \n",
    "* $\\overline{X}$ = 4.5\n",
    "* $\\sigma$       = 1.2\n",
    "* n              = 100\n",
    "We need to compute $\\overline{X} \\quad \\pm 1.96 \\frac {\\sigma} {\\sqrt{n}}$ "
   ]
  },
  {
   "cell_type": "code",
   "execution_count": 25,
   "metadata": {},
   "outputs": [
    {
     "name": "stdout",
     "output_type": "stream",
     "text": [
      "95 % confidence interval for population mean is 4.2648  to 4.7352\n"
     ]
    }
   ],
   "source": [
    "Xavg  = 4.5 \n",
    "sigma = 1.2\n",
    "n     = 100\n",
    "Lower_Interval = Xavg - (1.96 * (sigma / np.sqrt(n)))\n",
    "Upper_Interval = Xavg + (1.96 * (sigma / np.sqrt(n)))\n",
    "\n",
    "print('95 %s confidence interval for population mean is %1.4f  to %1.4f' % ('%', Lower_Interval , Upper_Interval))"
   ]
  },
  {
   "cell_type": "code",
   "execution_count": 26,
   "metadata": {},
   "outputs": [
    {
     "name": "stdout",
     "output_type": "stream",
     "text": [
      "95 % confidence interval for population mean is 4.2648  to 4.7352\n"
     ]
    }
   ],
   "source": [
    "### Another method of calculating Confidence Interval using  stats.norm.interval()\n",
    "ci = 0.95\n",
    "s  = sigma / np.sqrt(n)\n",
    "LCI, UCI = st.norm.interval(ci, loc = Xavg, scale = s) # Give confidence interval 95%, mean and std as arguments to get CI\n",
    "print('95 %s confidence interval for population mean is %1.4f  to %1.4f' % ('%', LCI , UCI))"
   ]
  },
  {
   "cell_type": "markdown",
   "metadata": {},
   "source": [
    "##### b) What is the probability that the population mean is greater than 4.73 days?"
   ]
  },
  {
   "cell_type": "markdown",
   "metadata": {},
   "source": [
    "We need to do the following:\n",
    "* a. Calculate Z value corresponding to 4.73 by subtracting Xavg and divide by s\n",
    "* b. find out the probability corresponding to the Z value using scipy.stats.norm.cdf and then subtracting from 1 since cdf gives cumulative probability upto the Z value sincd we are interested in finding the probability that the population mean is greater than Z"
   ]
  },
  {
   "cell_type": "code",
   "execution_count": 27,
   "metadata": {},
   "outputs": [],
   "source": [
    "Z = (4.73 - Xavg) / s"
   ]
  },
  {
   "cell_type": "code",
   "execution_count": 28,
   "metadata": {},
   "outputs": [],
   "source": [
    "P = 1- st.norm.cdf(Z)"
   ]
  },
  {
   "cell_type": "code",
   "execution_count": 29,
   "metadata": {},
   "outputs": [
    {
     "name": "stdout",
     "output_type": "stream",
     "text": [
      "b. Probability that the population mean is greater than 4.73 days 0.0276\n"
     ]
    }
   ],
   "source": [
    "print('b. Probability that the population mean is greater than 4.73 days %1.4f' % P)"
   ]
  },
  {
   "cell_type": "markdown",
   "metadata": {},
   "source": [
    "## END"
   ]
  },
  {
   "cell_type": "code",
   "execution_count": null,
   "metadata": {},
   "outputs": [],
   "source": []
  }
 ],
 "metadata": {
  "kernelspec": {
   "display_name": "Python 3",
   "language": "python",
   "name": "python3"
  },
  "language_info": {
   "codemirror_mode": {
    "name": "ipython",
    "version": 3
   },
   "file_extension": ".py",
   "mimetype": "text/x-python",
   "name": "python",
   "nbconvert_exporter": "python",
   "pygments_lexer": "ipython3",
   "version": "3.8.3"
  }
 },
 "nbformat": 4,
 "nbformat_minor": 2
}
