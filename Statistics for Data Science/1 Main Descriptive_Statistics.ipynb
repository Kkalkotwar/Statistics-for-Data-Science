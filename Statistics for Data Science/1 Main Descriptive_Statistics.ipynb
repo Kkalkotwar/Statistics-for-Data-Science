{
 "cells": [
  {
   "cell_type": "markdown",
   "metadata": {
    "colab_type": "text",
    "id": "EsGnSHewSVOF"
   },
   "source": [
    "Descriptive statistics help to summarize (describe) a provided dataset and identify the most significant features of the data under consideration by providing a short summary. It includes the measure of central tendencies and the measure of variability. Measures of central tendency include mean, median, and mode, while measures of variability include standard deviation (or variance), the minimum and maximum values of the variables, kurtosis, and skewness.\n",
    "\n",
    "Measures of central tendency\n",
    "  1. The mean, or average, is a number around which the observed continuous variables are\n",
    "distributed. This number estimates the value of the entire dataset.\n",
    "  2. To calculate median, we sort dataset in ascending or descending order and then select the middle integar. Median is robust to outliers. So median indicates central or middle value of dataset when the dataset distribution is skewed, extreme values are not known, or outliers are untrustworthy.\n",
    "  3. The mode is the integer that appears the maximum number of times in the dataset. The mode indicate important information (max value) of a population. Ex: Which payscale employee contribute maximum for tax paying.\n",
    "\n",
    "Measures of dispersion\n",
    "It is used to describe the variability in a dataset. The methods used to indicate variability are:\n",
    "  1. standard deviation (or variance)\n",
    "\n",
    "    It is the average/mean of the difference between each value in the dataset with its average/mean ie how data is spread out from the mean. If the standard deviation of the dataset is low, then the data points tend to be close to the mean of the dataset. Variance is the square of standard deviation.\n",
    "  \n",
    "  2. Skewness\n",
    "\n",
    "    Skewness is a measure of the asymmetry of the probability distribution of a real-valued random variable about its mean. The data distribution could be positive skewed(right skewed), symmetric or negative skewed(left skewed). \n",
    "    \n",
    "    Skewness = 3(mean - median)/std\n",
    "\n",
    "    Skewness >0, more weight in the left tail of the distribution. Positive skewness.\n",
    "    Skewness <0, more weight in the right tail of the distribution. Negative skewness.\n",
    "    The data should be made normal dstributed before applying analysis as analysis assumes normal distribution.\n",
    "  \n",
    "  3. Kurtosis\n",
    "    It is a statistical measure that illustrates how heavily the tails of distribution differ from those of a normal distribution. This technique can identify whether a given distribution contains extreme values. It measures the heaviness of the distribution tails. It indicates outlier presence in a given distribution. The higher the kurtosis, the higher the outliers.\n",
    "\n",
    "    Types of Kurtosis\n",
    "    1. Mesokurtic: If any dataset follows a normal distribution, it follows a mesokurtic distribution. It has kurtosis around 0.\n",
    "    2. Leptokurtic: In this case, the distribution has kurtosis greater than 3 and the fat tails indicate that the distribution produces more outliers.\n",
    "    3. Platykurtic: In this case, the distribution has negative kurtosis and the tails are very thin compared to the normal distribution.\n",
    "  \n",
    "  4. Percentiles/ Quartiles\n",
    "    It measure the percentage of values in any dataset that lie below a certain value. Quartiles refer to the three data points that divide the given dataset into four equal parts, such that each split makes 25% of the dataset. In terms of percentiles, the 25th percentile is referred to as the first quartile (Q1), the 50th percentile is referred to as the second quartile (Q2), and the 75th percentile is referred to as the third quartile (Q3).\n",
    "    IQR = Q3-Q1 ; the range is used to detect outliers."
   ]
  },
  {
   "cell_type": "code",
   "execution_count": 3,
   "metadata": {
    "colab": {
     "base_uri": "https://localhost:8080/",
     "height": 773
    },
    "colab_type": "code",
    "id": "k05ocfNSR4BT",
    "outputId": "a03c2788-6975-4929-99d9-91258b65a89b"
   },
   "outputs": [
    {
     "data": {
      "text/html": [
       "<div>\n",
       "<style scoped>\n",
       "    .dataframe tbody tr th:only-of-type {\n",
       "        vertical-align: middle;\n",
       "    }\n",
       "\n",
       "    .dataframe tbody tr th {\n",
       "        vertical-align: top;\n",
       "    }\n",
       "\n",
       "    .dataframe thead th {\n",
       "        text-align: right;\n",
       "    }\n",
       "</style>\n",
       "<table border=\"1\" class=\"dataframe\">\n",
       "  <thead>\n",
       "    <tr style=\"text-align: right;\">\n",
       "      <th></th>\n",
       "      <th>Assignment</th>\n",
       "      <th>Tutorial</th>\n",
       "      <th>Midterm</th>\n",
       "      <th>TakeHome</th>\n",
       "      <th>Final</th>\n",
       "    </tr>\n",
       "    <tr>\n",
       "      <th>S No.</th>\n",
       "      <th></th>\n",
       "      <th></th>\n",
       "      <th></th>\n",
       "      <th></th>\n",
       "      <th></th>\n",
       "    </tr>\n",
       "  </thead>\n",
       "  <tbody>\n",
       "    <tr>\n",
       "      <th>1</th>\n",
       "      <td>57.14</td>\n",
       "      <td>34.09</td>\n",
       "      <td>64.38</td>\n",
       "      <td>51.48</td>\n",
       "      <td>52.50</td>\n",
       "    </tr>\n",
       "    <tr>\n",
       "      <th>2</th>\n",
       "      <td>95.05</td>\n",
       "      <td>105.49</td>\n",
       "      <td>67.50</td>\n",
       "      <td>99.07</td>\n",
       "      <td>68.33</td>\n",
       "    </tr>\n",
       "    <tr>\n",
       "      <th>3</th>\n",
       "      <td>83.70</td>\n",
       "      <td>83.17</td>\n",
       "      <td>30.00</td>\n",
       "      <td>63.15</td>\n",
       "      <td>48.89</td>\n",
       "    </tr>\n",
       "    <tr>\n",
       "      <th>4</th>\n",
       "      <td>NaN</td>\n",
       "      <td>96.06</td>\n",
       "      <td>49.38</td>\n",
       "      <td>105.93</td>\n",
       "      <td>80.56</td>\n",
       "    </tr>\n",
       "    <tr>\n",
       "      <th>5</th>\n",
       "      <td>91.32</td>\n",
       "      <td>93.64</td>\n",
       "      <td>95.00</td>\n",
       "      <td>107.41</td>\n",
       "      <td>73.89</td>\n",
       "    </tr>\n",
       "    <tr>\n",
       "      <th>6</th>\n",
       "      <td>95.00</td>\n",
       "      <td>92.58</td>\n",
       "      <td>93.12</td>\n",
       "      <td>97.78</td>\n",
       "      <td>68.06</td>\n",
       "    </tr>\n",
       "    <tr>\n",
       "      <th>7</th>\n",
       "      <td>95.05</td>\n",
       "      <td>102.99</td>\n",
       "      <td>56.25</td>\n",
       "      <td>99.07</td>\n",
       "      <td>50.00</td>\n",
       "    </tr>\n",
       "    <tr>\n",
       "      <th>8</th>\n",
       "      <td>72.85</td>\n",
       "      <td>86.85</td>\n",
       "      <td>NaN</td>\n",
       "      <td>NaN</td>\n",
       "      <td>56.11</td>\n",
       "    </tr>\n",
       "    <tr>\n",
       "      <th>9</th>\n",
       "      <td>84.26</td>\n",
       "      <td>93.10</td>\n",
       "      <td>47.50</td>\n",
       "      <td>18.52</td>\n",
       "      <td>50.83</td>\n",
       "    </tr>\n",
       "    <tr>\n",
       "      <th>10</th>\n",
       "      <td>90.10</td>\n",
       "      <td>97.55</td>\n",
       "      <td>51.25</td>\n",
       "      <td>88.89</td>\n",
       "      <td>63.61</td>\n",
       "    </tr>\n",
       "    <tr>\n",
       "      <th>11</th>\n",
       "      <td>NaN</td>\n",
       "      <td>90.20</td>\n",
       "      <td>75.00</td>\n",
       "      <td>91.48</td>\n",
       "      <td>39.72</td>\n",
       "    </tr>\n",
       "    <tr>\n",
       "      <th>12</th>\n",
       "      <td>86.26</td>\n",
       "      <td>80.60</td>\n",
       "      <td>74.38</td>\n",
       "      <td>87.59</td>\n",
       "      <td>77.50</td>\n",
       "    </tr>\n",
       "    <tr>\n",
       "      <th>13</th>\n",
       "      <td>97.16</td>\n",
       "      <td>103.71</td>\n",
       "      <td>72.50</td>\n",
       "      <td>93.52</td>\n",
       "      <td>63.33</td>\n",
       "    </tr>\n",
       "    <tr>\n",
       "      <th>14</th>\n",
       "      <td>91.28</td>\n",
       "      <td>83.53</td>\n",
       "      <td>81.25</td>\n",
       "      <td>99.81</td>\n",
       "      <td>92.22</td>\n",
       "    </tr>\n",
       "    <tr>\n",
       "      <th>15</th>\n",
       "      <td>84.80</td>\n",
       "      <td>89.08</td>\n",
       "      <td>44.38</td>\n",
       "      <td>NaN</td>\n",
       "      <td>35.83</td>\n",
       "    </tr>\n",
       "    <tr>\n",
       "      <th>16</th>\n",
       "      <td>93.83</td>\n",
       "      <td>NaN</td>\n",
       "      <td>88.12</td>\n",
       "      <td>80.93</td>\n",
       "      <td>90.00</td>\n",
       "    </tr>\n",
       "    <tr>\n",
       "      <th>17</th>\n",
       "      <td>84.80</td>\n",
       "      <td>89.08</td>\n",
       "      <td>47.50</td>\n",
       "      <td>16.91</td>\n",
       "      <td>53.33</td>\n",
       "    </tr>\n",
       "    <tr>\n",
       "      <th>18</th>\n",
       "      <td>92.01</td>\n",
       "      <td>102.52</td>\n",
       "      <td>38.75</td>\n",
       "      <td>86.11</td>\n",
       "      <td>49.17</td>\n",
       "    </tr>\n",
       "    <tr>\n",
       "      <th>19</th>\n",
       "      <td>55.14</td>\n",
       "      <td>81.85</td>\n",
       "      <td>75.00</td>\n",
       "      <td>56.11</td>\n",
       "      <td>62.50</td>\n",
       "    </tr>\n",
       "    <tr>\n",
       "      <th>20</th>\n",
       "      <td>93.04</td>\n",
       "      <td>82.93</td>\n",
       "      <td>79.38</td>\n",
       "      <td>83.33</td>\n",
       "      <td>91.11</td>\n",
       "    </tr>\n",
       "  </tbody>\n",
       "</table>\n",
       "</div>"
      ],
      "text/plain": [
       "       Assignment  Tutorial  Midterm  TakeHome  Final\n",
       "S No.                                                \n",
       "1           57.14     34.09    64.38     51.48  52.50\n",
       "2           95.05    105.49    67.50     99.07  68.33\n",
       "3           83.70     83.17    30.00     63.15  48.89\n",
       "4             NaN     96.06    49.38    105.93  80.56\n",
       "5           91.32     93.64    95.00    107.41  73.89\n",
       "6           95.00     92.58    93.12     97.78  68.06\n",
       "7           95.05    102.99    56.25     99.07  50.00\n",
       "8           72.85     86.85      NaN       NaN  56.11\n",
       "9           84.26     93.10    47.50     18.52  50.83\n",
       "10          90.10     97.55    51.25     88.89  63.61\n",
       "11            NaN     90.20    75.00     91.48  39.72\n",
       "12          86.26     80.60    74.38     87.59  77.50\n",
       "13          97.16    103.71    72.50     93.52  63.33\n",
       "14          91.28     83.53    81.25     99.81  92.22\n",
       "15          84.80     89.08    44.38       NaN  35.83\n",
       "16          93.83       NaN    88.12     80.93  90.00\n",
       "17          84.80     89.08    47.50     16.91  53.33\n",
       "18          92.01    102.52    38.75     86.11  49.17\n",
       "19          55.14     81.85    75.00     56.11  62.50\n",
       "20          93.04     82.93    79.38     83.33  91.11"
      ]
     },
     "execution_count": 3,
     "metadata": {},
     "output_type": "execute_result"
    }
   ],
   "source": [
    "import pandas as pd\n",
    "##from google.colab import drive\n",
    "#drive.mount(\"/content/drive\")\n",
    "df= pd.read_csv(\"classgrades.csv\", index_col=0)\n",
    "df.head(20)"
   ]
  },
  {
   "cell_type": "code",
   "execution_count": 4,
   "metadata": {
    "colab": {
     "base_uri": "https://localhost:8080/",
     "height": 284
    },
    "colab_type": "code",
    "id": "guNiVRS3UryI",
    "outputId": "f7f3fc1e-40d6-430a-be97-03a6ee034ec1"
   },
   "outputs": [
    {
     "data": {
      "text/html": [
       "<div>\n",
       "<style scoped>\n",
       "    .dataframe tbody tr th:only-of-type {\n",
       "        vertical-align: middle;\n",
       "    }\n",
       "\n",
       "    .dataframe tbody tr th {\n",
       "        vertical-align: top;\n",
       "    }\n",
       "\n",
       "    .dataframe thead th {\n",
       "        text-align: right;\n",
       "    }\n",
       "</style>\n",
       "<table border=\"1\" class=\"dataframe\">\n",
       "  <thead>\n",
       "    <tr style=\"text-align: right;\">\n",
       "      <th></th>\n",
       "      <th>Assignment</th>\n",
       "      <th>Tutorial</th>\n",
       "      <th>Midterm</th>\n",
       "      <th>TakeHome</th>\n",
       "      <th>Final</th>\n",
       "    </tr>\n",
       "  </thead>\n",
       "  <tbody>\n",
       "    <tr>\n",
       "      <th>count</th>\n",
       "      <td>93.000000</td>\n",
       "      <td>95.000000</td>\n",
       "      <td>95.000000</td>\n",
       "      <td>95.000000</td>\n",
       "      <td>94.000000</td>\n",
       "    </tr>\n",
       "    <tr>\n",
       "      <th>mean</th>\n",
       "      <td>85.758925</td>\n",
       "      <td>89.475053</td>\n",
       "      <td>68.230526</td>\n",
       "      <td>81.916842</td>\n",
       "      <td>68.758936</td>\n",
       "    </tr>\n",
       "    <tr>\n",
       "      <th>std</th>\n",
       "      <td>12.470126</td>\n",
       "      <td>15.190065</td>\n",
       "      <td>19.681555</td>\n",
       "      <td>22.448462</td>\n",
       "      <td>18.804868</td>\n",
       "    </tr>\n",
       "    <tr>\n",
       "      <th>min</th>\n",
       "      <td>28.140000</td>\n",
       "      <td>34.090000</td>\n",
       "      <td>28.120000</td>\n",
       "      <td>16.910000</td>\n",
       "      <td>28.060000</td>\n",
       "    </tr>\n",
       "    <tr>\n",
       "      <th>25%</th>\n",
       "      <td>81.220000</td>\n",
       "      <td>83.170000</td>\n",
       "      <td>52.810000</td>\n",
       "      <td>71.850000</td>\n",
       "      <td>53.747500</td>\n",
       "    </tr>\n",
       "    <tr>\n",
       "      <th>50%</th>\n",
       "      <td>90.100000</td>\n",
       "      <td>93.100000</td>\n",
       "      <td>70.000000</td>\n",
       "      <td>87.960000</td>\n",
       "      <td>66.530000</td>\n",
       "    </tr>\n",
       "    <tr>\n",
       "      <th>75%</th>\n",
       "      <td>95.000000</td>\n",
       "      <td>100.550000</td>\n",
       "      <td>83.435000</td>\n",
       "      <td>99.070000</td>\n",
       "      <td>84.722500</td>\n",
       "    </tr>\n",
       "    <tr>\n",
       "      <th>max</th>\n",
       "      <td>100.830000</td>\n",
       "      <td>108.970000</td>\n",
       "      <td>110.000000</td>\n",
       "      <td>108.890000</td>\n",
       "      <td>108.890000</td>\n",
       "    </tr>\n",
       "  </tbody>\n",
       "</table>\n",
       "</div>"
      ],
      "text/plain": [
       "       Assignment    Tutorial     Midterm    TakeHome       Final\n",
       "count   93.000000   95.000000   95.000000   95.000000   94.000000\n",
       "mean    85.758925   89.475053   68.230526   81.916842   68.758936\n",
       "std     12.470126   15.190065   19.681555   22.448462   18.804868\n",
       "min     28.140000   34.090000   28.120000   16.910000   28.060000\n",
       "25%     81.220000   83.170000   52.810000   71.850000   53.747500\n",
       "50%     90.100000   93.100000   70.000000   87.960000   66.530000\n",
       "75%     95.000000  100.550000   83.435000   99.070000   84.722500\n",
       "max    100.830000  108.970000  110.000000  108.890000  108.890000"
      ]
     },
     "execution_count": 4,
     "metadata": {},
     "output_type": "execute_result"
    }
   ],
   "source": [
    "df.describe()"
   ]
  },
  {
   "cell_type": "code",
   "execution_count": 5,
   "metadata": {
    "colab": {},
    "colab_type": "code",
    "id": "NrG9mXp2Y1iT"
   },
   "outputs": [],
   "source": [
    "df=df.dropna()"
   ]
  },
  {
   "cell_type": "code",
   "execution_count": 6,
   "metadata": {
    "colab": {
     "base_uri": "https://localhost:8080/",
     "height": 118
    },
    "colab_type": "code",
    "id": "sO3-4SEgX2jr",
    "outputId": "2bbb038c-b4d3-442a-f955-842848d82609"
   },
   "outputs": [
    {
     "name": "stdout",
     "output_type": "stream",
     "text": [
      "90.98 0    91.28\n",
      "1    92.02\n",
      "2    95.00\n",
      "3    95.05\n",
      "4    98.58\n",
      "dtype: float64 86.01311688311688\n"
     ]
    }
   ],
   "source": [
    "med=df[\"Assignment\"].median()\n",
    "mod= df[\"Assignment\"].mode()\n",
    "avg=df[\"Assignment\"].mean()\n",
    "print(med, mod, avg)"
   ]
  },
  {
   "cell_type": "code",
   "execution_count": 7,
   "metadata": {
    "colab": {
     "base_uri": "https://localhost:8080/",
     "height": 118
    },
    "colab_type": "code",
    "id": "dtWTr16FbDNV",
    "outputId": "3548189b-232f-4d40-9671-c9db70ff2b3f"
   },
   "outputs": [
    {
     "data": {
      "text/plain": [
       "Assignment    163.700098\n",
       "Tutorial      270.887558\n",
       "Midterm       424.786757\n",
       "TakeHome      530.403624\n",
       "Final         359.770853\n",
       "dtype: float64"
      ]
     },
     "execution_count": 7,
     "metadata": {},
     "output_type": "execute_result"
    }
   ],
   "source": [
    "df.var()"
   ]
  },
  {
   "cell_type": "code",
   "execution_count": 8,
   "metadata": {
    "colab": {
     "base_uri": "https://localhost:8080/",
     "height": 118
    },
    "colab_type": "code",
    "id": "TcolGZlfbHRX",
    "outputId": "9993a3db-fdb9-4b01-e6d0-f54b59934c0d"
   },
   "outputs": [
    {
     "data": {
      "text/plain": [
       "Assignment    12.794534\n",
       "Tutorial      16.458662\n",
       "Midterm       20.610356\n",
       "TakeHome      23.030493\n",
       "Final         18.967626\n",
       "dtype: float64"
      ]
     },
     "execution_count": 8,
     "metadata": {},
     "output_type": "execute_result"
    }
   ],
   "source": [
    "df.std()"
   ]
  },
  {
   "cell_type": "code",
   "execution_count": 9,
   "metadata": {
    "colab": {
     "base_uri": "https://localhost:8080/",
     "height": 118
    },
    "colab_type": "code",
    "id": "mYLNlEFGb4fj",
    "outputId": "2d69d984-8ed4-451c-d424-b884dc60b513"
   },
   "outputs": [
    {
     "data": {
      "text/plain": [
       "Assignment   -1.890489\n",
       "Tutorial     -1.356049\n",
       "Midterm      -0.177999\n",
       "TakeHome     -1.095152\n",
       "Final         0.099385\n",
       "dtype: float64"
      ]
     },
     "execution_count": 9,
     "metadata": {},
     "output_type": "execute_result"
    }
   ],
   "source": [
    "df.skew()"
   ]
  },
  {
   "cell_type": "code",
   "execution_count": 10,
   "metadata": {
    "colab": {
     "base_uri": "https://localhost:8080/",
     "height": 118
    },
    "colab_type": "code",
    "id": "7O8V2V84f5uK",
    "outputId": "5bf6d7ce-4a5e-4c55-e055-41706bdea0c8"
   },
   "outputs": [
    {
     "data": {
      "text/plain": [
       "Assignment    4.781055\n",
       "Tutorial      1.731493\n",
       "Midterm      -0.864508\n",
       "TakeHome      0.569934\n",
       "Final        -0.752695\n",
       "dtype: float64"
      ]
     },
     "execution_count": 10,
     "metadata": {},
     "output_type": "execute_result"
    }
   ],
   "source": [
    "df.kurt()"
   ]
  },
  {
   "cell_type": "code",
   "execution_count": null,
   "metadata": {},
   "outputs": [],
   "source": []
  }
 ],
 "metadata": {
  "colab": {
   "name": "Descriptive Statistics.ipynb",
   "provenance": []
  },
  "kernelspec": {
   "display_name": "Python 3",
   "language": "python",
   "name": "python3"
  },
  "language_info": {
   "codemirror_mode": {
    "name": "ipython",
    "version": 3
   },
   "file_extension": ".py",
   "mimetype": "text/x-python",
   "name": "python",
   "nbconvert_exporter": "python",
   "pygments_lexer": "ipython3",
   "version": "3.8.5"
  }
 },
 "nbformat": 4,
 "nbformat_minor": 1
}
