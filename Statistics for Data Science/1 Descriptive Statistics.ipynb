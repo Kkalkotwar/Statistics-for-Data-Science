{
 "cells": [
  {
   "cell_type": "markdown",
   "metadata": {},
   "source": [
    "# Descriptive Statistics"
   ]
  },
  {
   "cell_type": "markdown",
   "metadata": {},
   "source": [
    "1.  we will discuss what is Data Analysis, Central Tendency in Python: mean, median, and mode. \n",
    "\n",
    "\n",
    "2. Moreover, we will discuss Python Dispersion and Python Pandas Descriptive Statistics. \n",
    "\n",
    "\n",
    "3. Along with this, we will cover the variance in Python and how to calculate the variability for a set of values."
   ]
  },
  {
   "cell_type": "markdown",
   "metadata": {},
   "source": [
    "### Data Analysis"
   ]
  },
  {
   "cell_type": "markdown",
   "metadata": {},
   "source": [
    "With data analysis, we use two main statistical methods- Descriptive and Inferential.\n",
    "\n",
    "\n",
    "A ) Descriptive statistics uses tools like mean and standard deviation on a sample to summarize data.\n",
    "\n",
    "B) Inferential statistics, on the other hand, looks at data that can randomly vary, and then draw conclusions from it.\n",
    "Some such variations include observational errors and sampling variation."
   ]
  },
  {
   "cell_type": "markdown",
   "metadata": {},
   "source": [
    "### A) Descriptive Statistics"
   ]
  },
  {
   "cell_type": "markdown",
   "metadata": {},
   "source": [
    "Under descriptive statistics, fall two sets of properties- Measure of central tendency and Measure of dispersion. \n",
    "\n",
    "Central tendency characterizes one central value for the entire distribution. Measures under this include mean, median, and mode. \n",
    "\n",
    "Dispersion is the term for a practice that characterizes how apart the members of the distribution are from the center and from each other. Variance/Standard Deviation is one such measure of variability."
   ]
  },
  {
   "cell_type": "markdown",
   "metadata": {},
   "source": [
    "### Measure of  Central Tendency \n",
    "\n",
    "We have seen what central tendency or central location is. Now let’s take a look at all the functions Python caters to us to calculate the central tendency for a distribution. For this, let’s import the Python statistics module."
   ]
  },
  {
   "cell_type": "code",
   "execution_count": 52,
   "metadata": {},
   "outputs": [],
   "source": [
    "import statistics as st\n",
    "import pandas as pd \n",
    "import numpy as np"
   ]
  },
  {
   "cell_type": "code",
   "execution_count": 53,
   "metadata": {},
   "outputs": [
    {
     "data": {
      "text/plain": [
       "4.5"
      ]
     },
     "execution_count": 53,
     "metadata": {},
     "output_type": "execute_result"
    }
   ],
   "source": [
    "## a.MEAN\n",
    "\n",
    "#mean i.e Average  = Sum of all/Total No.\n",
    "\n",
    "nums=[1,2,3,5,7,9]\n",
    "st.mean(nums)"
   ]
  },
  {
   "cell_type": "code",
   "execution_count": 54,
   "metadata": {},
   "outputs": [
    {
     "data": {
      "text/plain": [
       "7"
      ]
     },
     "execution_count": 54,
     "metadata": {},
     "output_type": "execute_result"
    }
   ],
   "source": [
    "## b.MODE\n",
    "\n",
    "#mode (The number with highest repetition when arrange in a sequence)\n",
    "\n",
    "nums=[1,2,3,5,7,9,7,2,7,6]\n",
    "st.mode(nums)"
   ]
  },
  {
   "cell_type": "code",
   "execution_count": 55,
   "metadata": {},
   "outputs": [
    {
     "data": {
      "text/plain": [
       "5.5"
      ]
     },
     "execution_count": 55,
     "metadata": {},
     "output_type": "execute_result"
    }
   ],
   "source": [
    "## c.MEDIAN\n",
    "\n",
    "#Median = (n + 1) / 2 (Arrange number in small to larger then the middle value is median) \n",
    "       \n",
    "\n",
    "nums=[1,2,3,5,7,9,7,2,7,6]\n",
    "st.median(nums)"
   ]
  },
  {
   "cell_type": "markdown",
   "metadata": {},
   "source": [
    "### Measure of Dispersion"
   ]
  },
  {
   "cell_type": "code",
   "execution_count": 56,
   "metadata": {},
   "outputs": [
    {
     "data": {
      "text/plain": [
       "6.6899999999999995"
      ]
     },
     "execution_count": 56,
     "metadata": {},
     "output_type": "execute_result"
    }
   ],
   "source": [
    "## a.VARIANCE \n",
    "\n",
    "#variance = ∑ (Xi – μ)2 / N  (average of the squares of the differences between the observed and the expected value)\n",
    "#Xi = ith data point in the data set\n",
    "#μ = Population mean\n",
    "#N = Number of data points in the population\n",
    "\n",
    "nums=[1,2,3,5,7,9,7,2,7,6]\n",
    "np.var(nums)"
   ]
  },
  {
   "cell_type": "code",
   "execution_count": 57,
   "metadata": {},
   "outputs": [
    {
     "data": {
      "text/plain": [
       "2.7264140062238043"
      ]
     },
     "execution_count": 57,
     "metadata": {},
     "output_type": "execute_result"
    }
   ],
   "source": [
    "## b.STANDARD DEVIATION\n",
    "\n",
    "#Standrad Deviation  = Sqrt (∑ (Xi – μ)2 / N ) (The measure of dispersion of a set of data from its mean)\n",
    "\n",
    "nums=[1,2,3,5,7,9,7,2,7,6]\n",
    "st.stdev(nums)"
   ]
  },
  {
   "cell_type": "code",
   "execution_count": 58,
   "metadata": {},
   "outputs": [
    {
     "data": {
      "text/plain": [
       "8"
      ]
     },
     "execution_count": 58,
     "metadata": {},
     "output_type": "execute_result"
    }
   ],
   "source": [
    "## c. RANGE\n",
    "\n",
    "#RANGE = (Max - Min) (Range of a set of data is the difference between the largest and smallest values)\n",
    "\n",
    "nums=[1,2,3,5,7,9,7,2,7,6]\n",
    "Range = np.max(nums)-np.min(nums)\n",
    "Range"
   ]
  },
  {
   "cell_type": "code",
   "execution_count": 59,
   "metadata": {},
   "outputs": [
    {
     "name": "stdout",
     "output_type": "stream",
     "text": [
      "Q1 quantile value  is:  4.5\n",
      "Q3 quantile value  is:  19.0\n",
      "IQR value  is:  14.5\n"
     ]
    }
   ],
   "source": [
    "## d.INTER QUARTILE RANGE (IQR)\n",
    "\n",
    "## IQR = Q3 −  Q1 (Measure of statistical dispersion, being equal to the difference between 75th and 25th percentiles )\n",
    "##Q1 represent 25 percent of data and Q3 represent 75 percent of data\n",
    "\n",
    "\n",
    "nums=[1,2,3,5,7,9,7,2,7,6,19,25,78,19,17,78]\n",
    "print(\"Q1 quantile value  is: \", np.quantile(nums,.25))\n",
    "print(\"Q3 quantile value  is: \", np.quantile(nums, .75)) \n",
    "print(\"Q2 quantile value  is: \", np.quantile(nums, .50))\n",
    "print(\"IQR value  is: \",  np.quantile(nums, 0.75) -np.quantile(nums, 0.25))"
   ]
  },
  {
   "cell_type": "code",
   "execution_count": 10,
   "metadata": {},
   "outputs": [
    {
     "data": {
      "text/plain": [
       "cash         2.189857\n",
       "Bike Rent    0.772061\n",
       "dtype: float64"
      ]
     },
     "execution_count": 10,
     "metadata": {},
     "output_type": "execute_result"
    }
   ],
   "source": [
    "## e.SKEWNESS\n",
    "\n",
    "## Skewness (measure of the asymmetry of the probability distribution of a real-valued random variable about its mean)\n",
    "\n",
    "nums = {'cash': [10,245,300,859,7895],'Bike Rent':[20,30,40,589,789]}\n",
    "df= pd.DataFrame(nums)\n",
    "df.skew()"
   ]
  },
  {
   "cell_type": "code",
   "execution_count": 13,
   "metadata": {},
   "outputs": [
    {
     "data": {
      "text/plain": [
       "cash         4.827080\n",
       "Bike Rent   -2.375358\n",
       "dtype: float64"
      ]
     },
     "execution_count": 13,
     "metadata": {},
     "output_type": "execute_result"
    }
   ],
   "source": [
    "## f.KURTOSIS\n",
    "\n",
    "# KURTOSIS (Kurtosis is statistical measure that's used to describe the distribution of observed data around the mean)\n",
    "\n",
    "df.kurtosis()"
   ]
  },
  {
   "cell_type": "code",
   "execution_count": 14,
   "metadata": {},
   "outputs": [
    {
     "data": {
      "text/html": [
       "<div>\n",
       "<style scoped>\n",
       "    .dataframe tbody tr th:only-of-type {\n",
       "        vertical-align: middle;\n",
       "    }\n",
       "\n",
       "    .dataframe tbody tr th {\n",
       "        vertical-align: top;\n",
       "    }\n",
       "\n",
       "    .dataframe thead th {\n",
       "        text-align: right;\n",
       "    }\n",
       "</style>\n",
       "<table border=\"1\" class=\"dataframe\">\n",
       "  <thead>\n",
       "    <tr style=\"text-align: right;\">\n",
       "      <th></th>\n",
       "      <th>cash</th>\n",
       "      <th>Bike Rent</th>\n",
       "    </tr>\n",
       "  </thead>\n",
       "  <tbody>\n",
       "    <tr>\n",
       "      <th>cash</th>\n",
       "      <td>11471883.7</td>\n",
       "      <td>1005383.4</td>\n",
       "    </tr>\n",
       "    <tr>\n",
       "      <th>Bike Rent</th>\n",
       "      <td>1005383.4</td>\n",
       "      <td>135334.3</td>\n",
       "    </tr>\n",
       "  </tbody>\n",
       "</table>\n",
       "</div>"
      ],
      "text/plain": [
       "                 cash  Bike Rent\n",
       "cash       11471883.7  1005383.4\n",
       "Bike Rent   1005383.4   135334.3"
      ]
     },
     "execution_count": 14,
     "metadata": {},
     "output_type": "execute_result"
    }
   ],
   "source": [
    "## g.Covariance\n",
    "\n",
    "#Covariance is a measure indicating the extent to which two random variables change in tandem \n",
    "\n",
    "#Cov(x,y) = Σ ((xi – x) * (yi – y)) / N\n",
    "#xi = Data variable of x\n",
    "#yi = Data variable of y\n",
    "#x = Mean of x\n",
    "#y = Mean of y\n",
    "#N= Number of data variables\n",
    "\n",
    "\n",
    "\n",
    "df.cov()"
   ]
  },
  {
   "cell_type": "code",
   "execution_count": 15,
   "metadata": {},
   "outputs": [
    {
     "data": {
      "text/html": [
       "<div>\n",
       "<style scoped>\n",
       "    .dataframe tbody tr th:only-of-type {\n",
       "        vertical-align: middle;\n",
       "    }\n",
       "\n",
       "    .dataframe tbody tr th {\n",
       "        vertical-align: top;\n",
       "    }\n",
       "\n",
       "    .dataframe thead th {\n",
       "        text-align: right;\n",
       "    }\n",
       "</style>\n",
       "<table border=\"1\" class=\"dataframe\">\n",
       "  <thead>\n",
       "    <tr style=\"text-align: right;\">\n",
       "      <th></th>\n",
       "      <th>cash</th>\n",
       "      <th>Bike Rent</th>\n",
       "    </tr>\n",
       "  </thead>\n",
       "  <tbody>\n",
       "    <tr>\n",
       "      <th>cash</th>\n",
       "      <td>1.000000</td>\n",
       "      <td>0.806883</td>\n",
       "    </tr>\n",
       "    <tr>\n",
       "      <th>Bike Rent</th>\n",
       "      <td>0.806883</td>\n",
       "      <td>1.000000</td>\n",
       "    </tr>\n",
       "  </tbody>\n",
       "</table>\n",
       "</div>"
      ],
      "text/plain": [
       "               cash  Bike Rent\n",
       "cash       1.000000   0.806883\n",
       "Bike Rent  0.806883   1.000000"
      ]
     },
     "execution_count": 15,
     "metadata": {},
     "output_type": "execute_result"
    }
   ],
   "source": [
    "## h.Correlation \n",
    "\n",
    "#Correlation is a statistical measure that indicates how strongly two variables are related\n",
    "\n",
    "#Corr(x,y)= Cov(rx, ry) / (σx * σy)\n",
    "#Cov(rx, ry) = Covariance of return X and Covariance of return of Y\n",
    "#σx = Standard deviation of X\n",
    "#σy = Standard deviation of Y\n",
    "\n",
    "df.corr()"
   ]
  },
  {
   "cell_type": "code",
   "execution_count": null,
   "metadata": {},
   "outputs": [],
   "source": []
  }
 ],
 "metadata": {
  "kernelspec": {
   "display_name": "Python 3",
   "language": "python",
   "name": "python3"
  },
  "language_info": {
   "codemirror_mode": {
    "name": "ipython",
    "version": 3
   },
   "file_extension": ".py",
   "mimetype": "text/x-python",
   "name": "python",
   "nbconvert_exporter": "python",
   "pygments_lexer": "ipython3",
   "version": "3.8.5"
  }
 },
 "nbformat": 4,
 "nbformat_minor": 2
}
