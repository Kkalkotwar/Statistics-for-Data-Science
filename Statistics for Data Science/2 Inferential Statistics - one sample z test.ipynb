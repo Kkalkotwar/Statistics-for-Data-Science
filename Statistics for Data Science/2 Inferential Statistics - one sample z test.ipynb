{
 "cells": [
  {
   "cell_type": "markdown",
   "metadata": {},
   "source": [
    "# Inferential Statistics"
   ]
  },
  {
   "cell_type": "markdown",
   "metadata": {},
   "source": [
    "## One sample test"
   ]
  },
  {
   "cell_type": "markdown",
   "metadata": {},
   "source": [
    "In one sample test, we compare the population parameter such as mean of a single sample of data collected from a single population. \n",
    "\n",
    "### 1) Z test\n",
    "\n",
    "A one sample Z test is one of the most basic types of hypothesis test. \n",
    "\n",
    "-----\n",
    "\n",
    "### Example 1: A principal of a prestigious city college claims that the average intelligence of the students of the college is above average. \n",
    "-------\n",
    "\n",
    "A random sample of 100 students IQ scores have  a mean score of 115. The mean population mean IQ is 100 with a standard deviation of 15.\n",
    "\n",
    "**Is there sufficient evidence to support the principal's claim?**\n"
   ]
  },
  {
   "cell_type": "markdown",
   "metadata": {},
   "source": [
    "### Solution: Let us work through the several required steps"
   ]
  },
  {
   "cell_type": "markdown",
   "metadata": {},
   "source": [
    "### Step 1: Define null and alternative hypotheses"
   ]
  },
  {
   "cell_type": "markdown",
   "metadata": {},
   "source": [
    "In testing whether the mean IQ of the students is more than 100, the null hypothesis states that mean IQ, $\\mu$ equals 100. The alternative hypthesis states that the mean IQ, $\\mu$ is greater  than 100.\n",
    "* $H_0$: $\\mu$ < 100\n",
    "* $H_A$: $\\mu$ >= 100"
   ]
  },
  {
   "cell_type": "markdown",
   "metadata": {},
   "source": [
    "### Step 2: Decide the significance level"
   ]
  },
  {
   "cell_type": "markdown",
   "metadata": {},
   "source": [
    "Here we select $\\alpha$ = 0.05 and it is given that n, sample size = 100."
   ]
  },
  {
   "cell_type": "markdown",
   "metadata": {},
   "source": [
    "### Step 3: Identify the test statistic"
   ]
  },
  {
   "cell_type": "markdown",
   "metadata": {},
   "source": [
    "We know the population standard deviation and the sample is a large sample, n>30. So you use the normal distribution and the $Z_STAT$ test statistic."
   ]
  },
  {
   "cell_type": "markdown",
   "metadata": {},
   "source": [
    "### Step 4: Calculate the critical value and test statistic"
   ]
  },
  {
   "cell_type": "code",
   "execution_count": 11,
   "metadata": {},
   "outputs": [
    {
     "name": "stdout",
     "output_type": "stream",
     "text": [
      "Value of Z critical is 1.960000\n"
     ]
    }
   ],
   "source": [
    "Zcrit = round(stats.norm.isf(q = 0.025),2)\n",
    "print('Value of Z critical is %3.6f' %Zcrit)              "
   ]
  },
  {
   "cell_type": "markdown",
   "metadata": {},
   "source": [
    "We know the $\\alpha$ is 0.05. So, the critical values of the $Z_STAT$ test statistic is 1.96"
   ]
  },
  {
   "cell_type": "markdown",
   "metadata": {},
   "source": [
    "We collect the sample data, calculate the test statistic. \n",
    "In our example, \n",
    "* $\\overline{X}$ = 115\n",
    "* $\\mu$          = 100\n",
    "* $\\sigma$       = 15\n",
    "* n              = 100\n",
    "* $Z_{STAT} = \\frac{\\overline{X} - \\mu} {\\frac{\\sigma}{\\sqrt{n}}}$ "
   ]
  },
  {
   "cell_type": "code",
   "execution_count": 6,
   "metadata": {},
   "outputs": [
    {
     "name": "stdout",
     "output_type": "stream",
     "text": [
      "Value of Z observed is 10.00000\n"
     ]
    }
   ],
   "source": [
    "XAvg  = 115\n",
    "mu    = 100\n",
    "sigma = 15\n",
    "n     = 100\n",
    "Z = (XAvg - mu)/(sigma/np.sqrt(n))\n",
    "print('Value of Z observed is %2.5f' %Z)"
   ]
  },
  {
   "cell_type": "markdown",
   "metadata": {},
   "source": [
    "### 5 Decide to reject or accept null hypothesis"
   ]
  },
  {
   "cell_type": "markdown",
   "metadata": {},
   "source": [
    "In this example, Z = 10 lies in the rejection region because, Z = 0.00047 > 1.96\n",
    "\n",
    "Z observed is not greater than z critical, so we cannot reject Null hypothesis\n",
    "\n",
    "### So there is sufficient evidence  to prove that the mean average intelligence of the students of the college is above average.\n"
   ]
  }
 ],
 "metadata": {
  "kernelspec": {
   "display_name": "Python 3",
   "language": "python",
   "name": "python3"
  },
  "language_info": {
   "codemirror_mode": {
    "name": "ipython",
    "version": 3
   },
   "file_extension": ".py",
   "mimetype": "text/x-python",
   "name": "python",
   "nbconvert_exporter": "python",
   "pygments_lexer": "ipython3",
   "version": "3.7.3"
  }
 },
 "nbformat": 4,
 "nbformat_minor": 2
}
