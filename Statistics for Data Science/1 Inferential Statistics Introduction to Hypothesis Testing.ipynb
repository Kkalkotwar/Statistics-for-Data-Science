{
 "cells": [
  {
   "cell_type": "markdown",
   "metadata": {},
   "source": [
    "# Inferential Statistics"
   ]
  },
  {
   "cell_type": "markdown",
   "metadata": {},
   "source": [
    "# Introduction to hypothesis testing"
   ]
  },
  {
   "cell_type": "markdown",
   "metadata": {},
   "source": [
    "*Beware of the problem of testing too many hypotheses; the more you torture the data, the more likely they are to confess, but confessions obtained under duress may not be admissible in the court of scientific opinion* - Stephen M Stigler\n",
    "\n",
    "* Hypothesis is a claim made by a person / organization.\n",
    "\n",
    "* The claim is usually about the population parameters such as mean or proportion and we seek evidence from a sample for the support of the claim (Example: average salary of Data Scientist with 1 year experience is Rs 5 Lakhs per annum).\n",
    "\n",
    "* Hypothesis testing is a process used for either rejecting or retaining null hypothesis."
   ]
  },
  {
   "cell_type": "markdown",
   "metadata": {},
   "source": [
    "** Examples of some claims:**\n",
    "*  If you drink Horlicks, you can grow taller, stronger and sharper.\n",
    "*  Two - minute for cooking noodles. (or eating !!)\n",
    "*  Married people are happier than singles (Anon - 2015).\n",
    "*  Smokers are better sales people.\n",
    "\n",
    "*Hypothesis testing is used for checking the validity of the claim using evidence found in sample data.*"
   ]
  },
  {
   "cell_type": "markdown",
   "metadata": {},
   "source": [
    "### Type I Error, Type II error and power of the hypothesis test"
   ]
  },
  {
   "cell_type": "markdown",
   "metadata": {},
   "source": [
    "### Type I error:"
   ]
  },
  {
   "cell_type": "markdown",
   "metadata": {},
   "source": [
    "* It is the conditional probability of rejecting a null hypothesis when it is true, is called **Type I error or False positive.**\n",
    "* $\\alpha$, the level of significance is the value of Type I error.\n",
    "* P(Reject null hypothesis | $H_0$ is true) = $\\alpha$"
   ]
  },
  {
   "cell_type": "markdown",
   "metadata": {},
   "source": [
    "### Type II error:"
   ]
  },
  {
   "cell_type": "markdown",
   "metadata": {},
   "source": [
    "* It is the conditional probability of retaining a null hypothesis when it is true, is called **Type II error or False Negative.**\n",
    "* $\\beta$, is the value of Type II error.\n",
    "* P(Retain null hypothesis | $H_0$ is false) = $\\beta$"
   ]
  },
  {
   "cell_type": "markdown",
   "metadata": {},
   "source": [
    "### Power of the test"
   ]
  },
  {
   "cell_type": "markdown",
   "metadata": {},
   "source": [
    "* (1 - $\\beta$) is known as the **power of the test**.\n",
    "* It is P(Reject null hypothesis | $H_0$ is false) = 1- $\\beta$"
   ]
  },
  {
   "cell_type": "markdown",
   "metadata": {},
   "source": [
    "## Steps involved in solving the hypothesis testing"
   ]
  },
  {
   "cell_type": "markdown",
   "metadata": {},
   "source": [
    "### 1 Define null and alternative hypotheses"
   ]
  },
  {
   "cell_type": "markdown",
   "metadata": {},
   "source": [
    "* ### Null hypothesis means no relationship or status quo\n",
    "* ### Alternative hypothesis is what the researcher wants to prove"
   ]
  },
  {
   "cell_type": "markdown",
   "metadata": {},
   "source": [
    "### Example:"
   ]
  },
  {
   "cell_type": "markdown",
   "metadata": {},
   "source": [
    "Write the null and alternative hypothesis from the following hypopthesis description:\n",
    "a. Average annual salary of Data Scientists is different for those having Ph.D in Statistics and those who do not.\n",
    "* Let $\\mu_{PhD}$ be the average annual salary of a Data scientist with Ph.D in Statistics.\n",
    "* Let $\\mu_{NoPhD}$ be the average annual salary of a Data scientist without Ph.D in Statistics."
   ]
  },
  {
   "cell_type": "markdown",
   "metadata": {},
   "source": [
    "* Null hypothesis:        $H_0$: $\\mu_{PhD}$ =    $\\mu_{NoPhD}$ \n",
    "* Alternative hypothesis: $H_A$: $\\mu_{PhD}$ $\\neq$ $\\mu_{NoPhD}$ "
   ]
  },
  {
   "cell_type": "markdown",
   "metadata": {},
   "source": [
    "Since the rejection region is on either side of the distribution, it will be a **two-tailed** test."
   ]
  },
  {
   "cell_type": "markdown",
   "metadata": {},
   "source": [
    "b. Average annual salary of Data Scientists is more for those having Ph.D in Statistics and those who do not."
   ]
  },
  {
   "cell_type": "markdown",
   "metadata": {},
   "source": [
    "* Null hypothesis:        $H_0$: $\\mu_{PhD}$ $\\leq$   $\\mu_{NoPhD}$ \n",
    "* Alternative hypothesis: $H_A$: $\\mu_{PhD}$ >        $\\mu_{NoPhD}$ "
   ]
  },
  {
   "cell_type": "markdown",
   "metadata": {},
   "source": [
    "Since the rejection region is on the right side of the distribution, it will be a one-tailed test."
   ]
  },
  {
   "cell_type": "markdown",
   "metadata": {},
   "source": [
    "### 2 Decide the significance level"
   ]
  },
  {
   "cell_type": "markdown",
   "metadata": {},
   "source": [
    "* You control the Type I error by determining the risk level, $\\alpha$, the level of significance that you are willing to reject the null hypothesis when it is true. Traditionally, you select a level of 0.01, 0.05 or 0.10. The choice of selection for making Type I error depends on the cost of making a Type I error.\n",
    "\n",
    "* One way to reduce the probability of making a Type II error is by increasing the sample size. For a given level of $\\alpha$, increasing the sample size decreases $\\beta$ resulting in increasing the power of the statistical test to detect that null hypothesis is false."
   ]
  },
  {
   "cell_type": "markdown",
   "metadata": {},
   "source": [
    "### 3 Identify the test statistic"
   ]
  },
  {
   "cell_type": "markdown",
   "metadata": {},
   "source": [
    "* ### The test statistic will depend on the probability distribution of the sampling distribution"
   ]
  },
  {
   "cell_type": "markdown",
   "metadata": {},
   "source": [
    "### 4 Calculate the p-value or critical values"
   ]
  },
  {
   "cell_type": "markdown",
   "metadata": {},
   "source": [
    "* ### P-value is the conditional probability of observing the test statistic value or extreme than the sample result when the null hypothesis is true.\n",
    "\n",
    "* ### Critical value approach\n",
    "\n",
    "* Critical values for the appropriate test statistic are selected so that the rejection region contains a total area of $\\alpha$ when $H_0$ is true and the non-rejection region contains a total area of 1 - $\\alpha$ when $H_0$ is true."
   ]
  },
  {
   "cell_type": "markdown",
   "metadata": {},
   "source": [
    "### 5 Decide to reject or accept null hypothesis"
   ]
  },
  {
   "cell_type": "markdown",
   "metadata": {},
   "source": [
    "* ### Reject null hypothesis when test statisic lies in the rejection region; retain null hypothesis otherwise. \n",
    "* ### OR\n",
    "* ### Reject null hypothesis when p-value < α; retain null hypothesis otherwise.\n"
   ]
  },
  {
   "cell_type": "markdown",
   "metadata": {},
   "source": [
    "#### Hypothesis testing using the critical value approach"
   ]
  },
  {
   "cell_type": "markdown",
   "metadata": {},
   "source": [
    "### Step 1: Define null and alternative hypotheses"
   ]
  },
  {
   "cell_type": "markdown",
   "metadata": {},
   "source": [
    "In testing whether the mean volume is 2 litres, the null hypothesis states that mean volume, $\\mu$ equals 2 litres. The alternative hypthesis states that the mean olume, $\\mu$ is not equal  to 2 litres.\n",
    "* $H_0$: $\\mu$ = 2\n",
    "* $H_A$: $\\mu$ $\\neq$ 2\n",
    "\n"
   ]
  },
  {
   "cell_type": "markdown",
   "metadata": {},
   "source": [
    "### Step 2: Decide the significance level"
   ]
  },
  {
   "cell_type": "markdown",
   "metadata": {},
   "source": [
    "Choose the $\\alpha$, the level of significance according to the relative importance of the risks of committing Type I and Type II errors in the problem. \n",
    "\n",
    "In this example, making a Type I error means that you conclude that the population mean is not 2 litres when it is 2 litres. This implies that you will take corrective action on the filling process even though the process is working well (*false alarm*).\n",
    "\n",
    "On the other hand, when the population mean is 1.98 litres and you conclude that the population mean is 2 litres, you commit a Type II error. Here, you allow the process to continue without adjustment, even though an adjustment is needed (*missed opportunity*).\n",
    "\n",
    "Here, we select $\\alpha$ = 0.05 and n, sample size = 50."
   ]
  },
  {
   "cell_type": "markdown",
   "metadata": {},
   "source": [
    "### Step 3:  Identify the test statistic"
   ]
  },
  {
   "cell_type": "markdown",
   "metadata": {},
   "source": [
    "We know the population standard deviation and the sample is a large sample, n>30. So you use the normal distribution and the $Z_STAT$ test statistic."
   ]
  },
  {
   "cell_type": "markdown",
   "metadata": {},
   "source": [
    "### Step 4: Calculate the critical value"
   ]
  },
  {
   "cell_type": "markdown",
   "metadata": {},
   "source": [
    "We know the $\\alpha$ is 0.05. So, the critical values of the $Z_STAT$ test statistic are -1.96 and 1.96."
   ]
  },
  {
   "cell_type": "code",
   "execution_count": 1,
   "metadata": {},
   "outputs": [
    {
     "name": "stdout",
     "output_type": "stream",
     "text": [
      "1.96\n"
     ]
    }
   ],
   "source": [
    "import numpy       as np\n",
    "import pandas      as pd\n",
    "import scipy.stats as stats\n",
    "print(np.abs(round(stats.norm.isf(q = 0.025),2))) # Here we use alpha by 2  for two-tailed test"
   ]
  },
  {
   "cell_type": "markdown",
   "metadata": {},
   "source": [
    "* ### Rejection region is $Z_{STAT}$ < -1.96 or $Z_{STAT}$ > 1.96\n",
    "* ### Acceptance or non-rejection regions is -1.96 $\\leq$ $Z_{STAT}$ $\\leq$ 1.96"
   ]
  },
  {
   "cell_type": "markdown",
   "metadata": {},
   "source": [
    "We collect the sample data, calculate the test statistic. \n",
    "In our example, \n",
    "* $\\overline{X}$ = 2.001\n",
    "* $\\mu$   = 2\n",
    "* $\\sigma$ = 15\n",
    "* n       = 50\n",
    "* $Z_{STAT} = \\frac{\\overline{X} - \\mu} {\\frac{\\sigma}{\\sqrt{n}}}$ "
   ]
  },
  {
   "cell_type": "code",
   "execution_count": 14,
   "metadata": {},
   "outputs": [
    {
     "name": "stdout",
     "output_type": "stream",
     "text": [
      "Value of Z observed is 0.00047\n"
     ]
    }
   ],
   "source": [
    "XAvg  = 2.001\n",
    "mu    = 2\n",
    "sigma = 15\n",
    "n     = 50\n",
    "Z = (XAvg - mu)/(sigma/np.sqrt(n))\n",
    "print('Value of Z observed is %2.5f' %Z)"
   ]
  },
  {
   "cell_type": "markdown",
   "metadata": {},
   "source": [
    "### 5 Decide to reject or accept null hypothesis"
   ]
  },
  {
   "cell_type": "markdown",
   "metadata": {},
   "source": [
    "In this example, Z = 0.00047 ( z observed) lies in the acceptance region because, \n",
    "-1.96 < Z = 0.00047 < 1.96.\n",
    "\n",
    "Z observed is less than Z critical\n",
    "\n",
    "So the statistical decision is not to reject the null hypothesis.\n",
    "\n",
    "### So there is no sufficient evidence  to prove that the mean fill is different from 2 litres."
   ]
  }
 ],
 "metadata": {
  "kernelspec": {
   "display_name": "Python 3",
   "language": "python",
   "name": "python3"
  },
  "language_info": {
   "codemirror_mode": {
    "name": "ipython",
    "version": 3
   },
   "file_extension": ".py",
   "mimetype": "text/x-python",
   "name": "python",
   "nbconvert_exporter": "python",
   "pygments_lexer": "ipython3",
   "version": "3.7.3"
  }
 },
 "nbformat": 4,
 "nbformat_minor": 2
}
