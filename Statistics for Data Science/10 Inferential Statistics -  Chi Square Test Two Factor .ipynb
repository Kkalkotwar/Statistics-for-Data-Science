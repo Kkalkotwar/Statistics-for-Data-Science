{
 "cells": [
  {
   "cell_type": "code",
   "execution_count": 1,
   "metadata": {},
   "outputs": [
    {
     "name": "stdout",
     "output_type": "stream",
     "text": [
      "At 5 % level of significance, the p-value is 0.0000449\n",
      "At 5 % level of significance, the chi observed is 22.7777778\n"
     ]
    }
   ],
   "source": [
    "import scipy.stats as stats\n",
    "import scipy\n",
    "\n",
    "observed_values    = scipy.array([190, 185, 90, 35])\n",
    "n                  = observed_values.sum()\n",
    "\n",
    "expected_values    = scipy.array([n*0.3, n*.45, n*0.2, n*0.05])\n",
    "\n",
    "chi_square_stat, p_value = stats.chisquare(observed_values, f_exp=expected_values)\n",
    "\n",
    "print('At 5 %s level of significance, the p-value is %1.7f' %('%', p_value))\n",
    "\n",
    "print('At 5 %s level of significance, the chi observed is %1.7f' %('%', chi_square_stat))\n",
    "\n",
    "## chi critical at 95% is 8.907\n"
   ]
  },
  {
   "cell_type": "markdown",
   "metadata": {},
   "source": [
    "### Step 5: Decide to reject or accept null hypothesis"
   ]
  },
  {
   "cell_type": "markdown",
   "metadata": {},
   "source": [
    "### In this example, p value is 0.0000449 and < 0.05 so we reject the null hypothesis. \n",
    "### So, we conclude that Meal preference is not defined in the null hypothesis."
   ]
  },
  {
   "cell_type": "markdown",
   "metadata": {},
   "source": [
    "Refer to the above example 2. Here the operations manager changes his belief and now believes that 28% of their passengers prefer vegan food, 42% prefer vegetarian food , 25% prefer non-veg food 5% request for Jain food. \n",
    "\n",
    "At 5% level of significance, can you confirm that the meal preference is as per the belief of the operations manager?"
   ]
  },
  {
   "cell_type": "markdown",
   "metadata": {},
   "source": [
    "### Chi-square tests of independence"
   ]
  },
  {
   "cell_type": "markdown",
   "metadata": {},
   "source": [
    "Chi-square test of independence is a hypothesis test in which we test whether two or more groups are statistically independent or not."
   ]
  },
  {
   "cell_type": "markdown",
   "metadata": {},
   "source": [
    "| Hypothesis | Description |\n",
    "| --------------------- | ----------------------- |\n",
    "| Null Hypothesis | Two or more groups are independent |\n",
    "| Alternative Hypothesis | Two or more groups are dependent |"
   ]
  },
  {
   "cell_type": "markdown",
   "metadata": {},
   "source": [
    "$\\chi^2$ = $\\sum_{i=1}^{n}\\sum_{j=1}^{m}\\frac{({O_{ij}-E_{ij}})^2}{E_{ij}}$\n",
    "\n",
    "The corresponding degrees of freedom is (r - 1) * ( c  - 1) , where r is the number of rows and c is the number of columns in the contingency table. \n",
    "\n",
    "scipy.stats.chi2_contingency is the Chi-square test of independence of variables in a contingency table.\n",
    "\n",
    "This function computes the chi-square statistic and p-value for the hypothesis test of independence of the observed frequencies in the contingency table observed. The expected frequencies are computed based on the marginal sums under the assumption of independence."
   ]
  },
  {
   "cell_type": "markdown",
   "metadata": {},
   "source": [
    "## Chisquare - Two factor"
   ]
  },
  {
   "cell_type": "markdown",
   "metadata": {},
   "source": [
    "### Example 3 \n",
    "\n",
    "The table below contains the number of perfect, satisfactory and defective products are manufactured by both male and female.\n",
    "\n",
    "| Gender  | Perfect | Satisfactory | Defective |\n",
    "| ------- | ---- | --------- | -------- |\n",
    "| Male    | 138 | 83 | 64 |\n",
    "| Female  | 64 | 67 | 84 |\n",
    "\n",
    "\n",
    "Do these data provide sufficient evidence at the 5% significance level to infer that there are differences in quality among genders (Male and Female)?"
   ]
  },
  {
   "cell_type": "markdown",
   "metadata": {},
   "source": [
    "### Step 1: State the null and alternative hypothesis:"
   ]
  },
  {
   "cell_type": "markdown",
   "metadata": {},
   "source": [
    "Null hypothesis: $H_0$: There is no difference in quality of the products manufactured by male and female\n",
    "                        \n",
    "Alternative hypothesis: $H_A$: There is a significant difference in quality of the products manufactured by male and female"
   ]
  },
  {
   "cell_type": "markdown",
   "metadata": {},
   "source": [
    "### Step 2: Decide the significance level"
   ]
  },
  {
   "cell_type": "markdown",
   "metadata": {},
   "source": [
    "Here we select α = 0.05"
   ]
  },
  {
   "cell_type": "markdown",
   "metadata": {},
   "source": [
    "### Step 3: Identify the test statistic"
   ]
  },
  {
   "cell_type": "markdown",
   "metadata": {},
   "source": [
    "We use the chi-square test of independence to find out the difference of categorical variables "
   ]
  },
  {
   "cell_type": "markdown",
   "metadata": {},
   "source": [
    "### Step 4: Calculate p value or chi-square statistic value"
   ]
  },
  {
   "cell_type": "code",
   "execution_count": 2,
   "metadata": {},
   "outputs": [
    {
     "name": "stdout",
     "output_type": "stream",
     "text": [
      "Chi-square statistic 22.15247 P value 0.000015 Degrees of freedom 2\n"
     ]
    }
   ],
   "source": [
    "import pandas      as pd\n",
    "import numpy       as np\n",
    "import scipy.stats as stats\n",
    "\n",
    "quality_array = np.array([[138, 83, 64],[64, 67, 84]])\n",
    "chi_sq_Stat, p_value, deg_freedom, exp_freq = stats.chi2_contingency(quality_array)\n",
    "\n",
    "print('Chi-square statistic %3.5f P value %1.6f Degrees of freedom %d' %(chi_sq_Stat, p_value,deg_freedom))"
   ]
  },
  {
   "cell_type": "markdown",
   "metadata": {},
   "source": [
    "### Step 5: Decide to reject or accept null hypothesis"
   ]
  },
  {
   "cell_type": "markdown",
   "metadata": {},
   "source": [
    "### In this example, p value is 0.000015 and < 0.05 so we reject the null hypothesis. \n",
    "### So, we conclude that there is a significant difference in quality of the products manufactured by male and female."
   ]
  },
  {
   "cell_type": "code",
   "execution_count": null,
   "metadata": {},
   "outputs": [],
   "source": []
  },
  {
   "cell_type": "code",
   "execution_count": null,
   "metadata": {},
   "outputs": [],
   "source": []
  },
  {
   "cell_type": "markdown",
   "metadata": {},
   "source": [
    "## End"
   ]
  }
 ],
 "metadata": {
  "kernelspec": {
   "display_name": "Python 3",
   "language": "python",
   "name": "python3"
  },
  "language_info": {
   "codemirror_mode": {
    "name": "ipython",
    "version": 3
   },
   "file_extension": ".py",
   "mimetype": "text/x-python",
   "name": "python",
   "nbconvert_exporter": "python",
   "pygments_lexer": "ipython3",
   "version": "3.7.3"
  }
 },
 "nbformat": 4,
 "nbformat_minor": 2
}
